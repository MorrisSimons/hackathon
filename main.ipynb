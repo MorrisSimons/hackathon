{
 "cells": [
  {
   "cell_type": "code",
   "execution_count": 16,
   "id": "f82dc441",
   "metadata": {},
   "outputs": [],
   "source": [
    "!pip install -q neo4j \n",
    "!pip install -q dotenv"
   ]
  },
  {
   "cell_type": "code",
   "execution_count": 17,
   "id": "fc2c30ed",
   "metadata": {},
   "outputs": [
    {
     "name": "stdout",
     "output_type": "stream",
     "text": [
      "Connection successful!\n"
     ]
    }
   ],
   "source": [
    "from neo4j import GraphDatabase\n",
    "import os\n",
    "from dotenv import load_dotenv\n",
    "\n",
    "# Load environment variables\n",
    "load_dotenv()\n",
    "\n",
    "# Neo4j connection configuration from environment variables\n",
    "uri = os.getenv(\"NEO4J_URI\")\n",
    "username = os.getenv(\"NEO4J_USER\")\n",
    "password = os.getenv(\"NEO4J_PASSWORD\")\n",
    "\n",
    "# Create driver and connect to database\n",
    "driver = GraphDatabase.driver(uri, auth=(username, password))\n",
    "\n",
    "# Test connection\n",
    "def test_connection():\n",
    "    with driver.session() as session:\n",
    "        result = session.run(\"RETURN 'Connection successful!' as message\")\n",
    "        return result.single()[\"message\"]\n",
    "\n",
    "try:\n",
    "    message = test_connection()\n",
    "    print(message)\n",
    "except Exception as e:\n",
    "    print(f\"Connection failed: {e}\")"
   ]
  },
  {
   "cell_type": "markdown",
   "id": "3c65a45f",
   "metadata": {},
   "source": [
    "#### Thinking behind the data.\n",
    "- text: the text body.\n",
    "- ConversationID = what coversation.\n",
    "- MessageID num ID in the conversation.\n",
    "- What part of the process is the user.\n",
    "- user: the users name\n",
    "- userID: Unique user id\n",
    "- created at time stamp\n",
    "- role: agent or user"
   ]
  },
  {
   "cell_type": "code",
   "execution_count": 18,
   "id": "5207b87b",
   "metadata": {},
   "outputs": [
    {
     "name": "stdout",
     "output_type": "stream",
     "text": [
      "Message inserted successfully!\n",
      "Created node: <Node element_id='4:ca7b4fdd-56c0-4663-a686-ea51332c9fec:349' labels=frozenset({'Message'}) properties={'role': 'user', 'conversation_id': 1, 'created_at': neo4j.time.DateTime(2025, 5, 26, 20, 11, 16, 288000000, tzinfo=<UTC>), 'message_id': 1, 'text': 'hello', 'user': 'morris', 'plan_id': 1}>\n"
     ]
    }
   ],
   "source": [
    "def insert_hello_message():\n",
    "    with driver.session() as session:\n",
    "        query = \"\"\"\n",
    "        CREATE (m:Message {\n",
    "            text: 'hello',\n",
    "            conversation_id: 1,\n",
    "            message_id: 1,\n",
    "            plan_id: 1,\n",
    "            user: 'morris',\n",
    "            created_at: datetime(),\n",
    "            role: 'user'\n",
    "        })\n",
    "        RETURN m\n",
    "        \"\"\"\n",
    "        result = session.run(query)\n",
    "        return result.single()\n",
    "\n",
    "# Insert the message\n",
    "try:\n",
    "    message_node = insert_hello_message()\n",
    "    print(\"Message inserted successfully!\")\n",
    "    print(f\"Created node: {message_node['m']}\")\n",
    "except Exception as e:\n",
    "    print(f\"Failed to insert message: {e}\")"
   ]
  },
  {
   "cell_type": "code",
   "execution_count": 19,
   "id": "025c80c8",
   "metadata": {},
   "outputs": [
    {
     "name": "stdout",
     "output_type": "stream",
     "text": [
      "Found 1 nodes:\n",
      "<Node element_id='4:ca7b4fdd-56c0-4663-a686-ea51332c9fec:349' labels=frozenset({'Message'}) properties={'role': 'user', 'conversation_id': 1, 'created_at': neo4j.time.DateTime(2025, 5, 26, 20, 11, 16, 288000000, tzinfo=<UTC>), 'message_id': 1, 'text': 'hello', 'user': 'morris', 'plan_id': 1}>\n"
     ]
    }
   ],
   "source": [
    "def get_all_nodes():\n",
    "    with driver.session() as session:\n",
    "        query = \"MATCH (n) RETURN n\"\n",
    "        result = session.run(query)\n",
    "        return [record[\"n\"] for record in result]\n",
    "\n",
    "# Get all nodes\n",
    "try:\n",
    "    all_nodes = get_all_nodes()\n",
    "    print(f\"Found {len(all_nodes)} nodes:\")\n",
    "    for node in all_nodes:\n",
    "        print(node)\n",
    "except Exception as e:\n",
    "    print(f\"Failed to retrieve nodes: {e}\")"
   ]
  },
  {
   "cell_type": "code",
   "execution_count": 23,
   "id": "166e3c0a",
   "metadata": {},
   "outputs": [
    {
     "name": "stdout",
     "output_type": "stream",
     "text": [
      "Message with T-agent user inserted successfully!\n",
      "Created node: <Node element_id='4:ca7b4fdd-56c0-4663-a686-ea51332c9fec:350' labels=frozenset({'Message'}) properties={'role': 'assistant', 'conversation_id': 1, 'created_at': neo4j.time.DateTime(2025, 5, 26, 20, 12, 51, 184000000, tzinfo=<UTC>), 'message_id': 2, 'text': 'hello how can i help you? Lorem Ipsum is a standard placeholder text used in publishing and web design to fill spaces where content will eventually go. It originates from a scrambled section of Ciceros De Finibus Bonorum et Malorum written in 45 BC. Designers use it to focus on layout and visual elements without the distraction of meaningful content', 'user': 'Frida', 'plan_id': 1}>\n"
     ]
    }
   ],
   "source": [
    "def insert_user_message():\n",
    "    with driver.session() as session:\n",
    "        query = \"\"\"\n",
    "        CREATE (m:Message {\n",
    "            text: 'hello how can i help you? Lorem Ipsum is a standard placeholder text used in publishing and web design to fill spaces where content will eventually go. It originates from a scrambled section of Ciceros De Finibus Bonorum et Malorum written in 45 BC. Designers use it to focus on layout and visual elements without the distraction of meaningful content',\n",
    "            conversation_id: 1,\n",
    "            message_id: 2,\n",
    "            plan_id: 1,\n",
    "            user: 'Frida',\n",
    "            created_at: datetime(),\n",
    "            role: 'assistant'\n",
    "        })\n",
    "        RETURN m\n",
    "        \"\"\"\n",
    "        result = session.run(query)\n",
    "        return result.single()\n",
    "\n",
    "# Insert the message with T-agent user\n",
    "try:\n",
    "    user_message_node = insert_user_message()\n",
    "    print(\"Message with T-agent user inserted successfully!\")\n",
    "    print(f\"Created node: {user_message_node['m']}\")\n",
    "except Exception as e:\n",
    "    print(f\"Failed to insert message: {e}\")"
   ]
  },
  {
   "cell_type": "code",
   "execution_count": 24,
   "id": "06910a91",
   "metadata": {},
   "outputs": [
    {
     "name": "stdout",
     "output_type": "stream",
     "text": [
      "Created 2 conversation relationships!\n"
     ]
    }
   ],
   "source": [
    "def create_conversation_relationships():\n",
    "    with driver.session() as session:\n",
    "        query = \"\"\"\n",
    "        MATCH (m1:Message), (m2:Message)\n",
    "        WHERE m1.conversation_id = m2.conversation_id AND m1 <> m2\n",
    "        CREATE (m1)-[:SAME_CONVERSATION]->(m2)\n",
    "        RETURN count(*) as relationships_created\n",
    "        \"\"\"\n",
    "        result = session.run(query)\n",
    "        return result.single()[\"relationships_created\"]\n",
    "\n",
    "# Create relationships between messages in the same conversation\n",
    "try:\n",
    "    count = create_conversation_relationships()\n",
    "    print(f\"Created {count} conversation relationships!\")\n",
    "except Exception as e:\n",
    "    print(f\"Failed to create relationships: {e}\")"
   ]
  },
  {
   "cell_type": "code",
   "execution_count": 29,
   "id": "a68a55e3",
   "metadata": {},
   "outputs": [
    {
     "name": "stdout",
     "output_type": "stream",
     "text": [
      "Vector index 'message_text_vector' created successfully!\n"
     ]
    }
   ],
   "source": [
    "def create_vector_index():\n",
    "    with driver.session() as session:\n",
    "        query = \"\"\"\n",
    "        CREATE VECTOR INDEX message_text_vector IF NOT EXISTS\n",
    "        FOR (m:Message) ON (m.text_vector)\n",
    "        OPTIONS {\n",
    "          indexConfig: {\n",
    "            `vector.dimensions`: 384,\n",
    "            `vector.similarity_function`: 'cosine'\n",
    "          }\n",
    "        }\n",
    "        \"\"\"\n",
    "        result = session.run(query)\n",
    "        return result.consume()\n",
    "\n",
    "# Create vector index for message text\n",
    "try:\n",
    "    create_vector_index()\n",
    "    print(\"Vector index 'message_text_vector' created successfully!\")\n",
    "except Exception as e:\n",
    "    print(f\"Failed to create vector index: {e}\")"
   ]
  },
  {
   "cell_type": "code",
   "execution_count": 31,
   "id": "809c5c57",
   "metadata": {},
   "outputs": [
    {
     "name": "stdout",
     "output_type": "stream",
     "text": [
      "Existing vector indexes:\n",
      "Index name: message_text_vector, Type: VECTOR\n"
     ]
    }
   ],
   "source": [
    "def get_vector_search_index():\n",
    "    with driver.session() as session:\n",
    "        query = \"SHOW INDEXES YIELD name, type WHERE type = 'VECTOR'\"\n",
    "        result = session.run(query)\n",
    "        return [record for record in result]\n",
    "\n",
    "# Check for existing vector indexes\n",
    "try:\n",
    "    vector_indexes = get_vector_search_index()\n",
    "    if vector_indexes:\n",
    "        print(\"Existing vector indexes:\")\n",
    "        for index in vector_indexes:\n",
    "            print(f\"Index name: {index['name']}, Type: {index['type']}\")\n",
    "    else:\n",
    "        print(\"No vector indexes found. You may need to create one first.\")\n",
    "except Exception as e:\n",
    "    print(f\"Failed to retrieve vector indexes: {e}\")"
   ]
  },
  {
   "cell_type": "code",
   "execution_count": 32,
   "id": "89b90cb8",
   "metadata": {},
   "outputs": [
    {
     "name": "stdout",
     "output_type": "stream",
     "text": [
      "Found 2 messages containing 'hello':\n",
      "User: morris, Role: user\n",
      "Text: hello...\n",
      "---\n",
      "User: Frida, Role: assistant\n",
      "Text: hello how can i help you? Lorem Ipsum is a standard placeholder text used in publishing and web desi...\n",
      "---\n"
     ]
    }
   ],
   "source": [
    "def vector_search_similar_messages(query_text, top_k=5):\n",
    "    with driver.session() as session:\n",
    "        # First, we need to get embeddings for the query text\n",
    "        # For this example, I'll show how to do vector search assuming you have embeddings\n",
    "        query = \"\"\"\n",
    "        MATCH (m:Message)\n",
    "        WHERE m.text_vector IS NOT NULL\n",
    "        CALL db.index.vector.queryNodes('message_text_vector', $top_k, $query_vector)\n",
    "        YIELD node, score\n",
    "        RETURN node.text as text, node.user as user, node.role as role, score\n",
    "        ORDER BY score DESC\n",
    "        \"\"\"\n",
    "        # Note: You'll need to generate embeddings for query_text first\n",
    "        # This is a placeholder - you'll need actual vector embeddings\n",
    "        result = session.run(query, top_k=top_k, query_vector=[0.1] * 384)\n",
    "        return [record for record in result]\n",
    "\n",
    "# Alternative: Simple text similarity search without vectors\n",
    "def search_similar_text(search_term):\n",
    "    with driver.session() as session:\n",
    "        query = \"\"\"\n",
    "        MATCH (m:Message)\n",
    "        WHERE toLower(m.text) CONTAINS toLower($search_term)\n",
    "        RETURN m.text as text, m.user as user, m.role as role, m.message_id as message_id\n",
    "        ORDER BY m.message_id\n",
    "        \"\"\"\n",
    "        result = session.run(query, search_term=search_term)\n",
    "        return [record for record in result]\n",
    "\n",
    "# Search for messages containing \"hello\"\n",
    "try:\n",
    "    similar_messages = search_similar_text(\"hello\")\n",
    "    print(f\"Found {len(similar_messages)} messages containing 'hello':\")\n",
    "    for msg in similar_messages:\n",
    "        print(f\"User: {msg['user']}, Role: {msg['role']}\")\n",
    "        print(f\"Text: {msg['text'][:100]}...\")\n",
    "        print(\"---\")\n",
    "except Exception as e:\n",
    "    print(f\"Search failed: {e}\")"
   ]
  }
 ],
 "metadata": {
  "kernelspec": {
   "display_name": "Python 3",
   "language": "python",
   "name": "python3"
  },
  "language_info": {
   "codemirror_mode": {
    "name": "ipython",
    "version": 3
   },
   "file_extension": ".py",
   "mimetype": "text/x-python",
   "name": "python",
   "nbconvert_exporter": "python",
   "pygments_lexer": "ipython3",
   "version": "3.10.12"
  }
 },
 "nbformat": 4,
 "nbformat_minor": 5
}
