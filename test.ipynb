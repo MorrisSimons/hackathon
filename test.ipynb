{
 "cells": [
  {
   "cell_type": "code",
   "execution_count": 1,
   "id": "b984050f",
   "metadata": {},
   "outputs": [
    {
     "name": "stdout",
     "output_type": "stream",
     "text": [
      "Connection successful!\n",
      "Connected to Neo4j database successfully!\n"
     ]
    }
   ],
   "source": [
    "from main import TherapyGraph\n",
    "import json"
   ]
  },
  {
   "cell_type": "code",
   "execution_count": 5,
   "id": "ee8babcf",
   "metadata": {},
   "outputs": [
    {
     "name": "stdout",
     "output_type": "stream",
     "text": [
      "All username nodes deleted successfully!\n",
      "Remaining username nodes: 0\n",
      "All message nodes deleted successfully!\n",
      "Remaining message nodes: 0\n"
     ]
    },
    {
     "data": {
      "text/plain": [
       "<Record u=<Node element_id='4:ca7b4fdd-56c0-4663-a686-ea51332c9fec:379' labels=frozenset({'Username'}) properties={'name': 'Our_Therapist', 'created_at': neo4j.time.DateTime(2025, 5, 27, 2, 0, 32, 864000000, tzinfo=<UTC>), 'username': 'therapist_1'}>>"
      ]
     },
     "execution_count": 5,
     "metadata": {},
     "output_type": "execute_result"
    }
   ],
   "source": [
    "TherapyGraph.delete_all_usernames()\n",
    "TherapyGraph.delete_all_messages()\n",
    "TherapyGraph.add_username(name=\"John Doe\", username=\"user_1\")\n",
    "TherapyGraph.add_username(name=\"Our_Therapist\", username=\"therapist_1\")"
   ]
  },
  {
   "cell_type": "code",
   "execution_count": 6,
   "id": "636b2204",
   "metadata": {},
   "outputs": [
    {
     "name": "stdout",
     "output_type": "stream",
     "text": [
      "Adding message 0 from user agent\n",
      "Message content: hello, how can i help you today? \n",
      "Adding message 1 from user user\n",
      "Message content: hi, my dad beat me when i was child i think of this sometimes like now, that makes me sad. \n"
     ]
    }
   ],
   "source": [
    "with open('test_msg.json', 'r') as file:\n",
    "    agent_message = json.load(file)\n",
    "#print(f\"Loaded agent message: {agent_message}\")\n",
    "\n",
    "#print(agent_message[\"agent\"][\"message\"])\n",
    "\n",
    "for i, user in enumerate(agent_message):\n",
    "    print(f\"Adding message {i} from user {user}\")\n",
    "    msg = agent_message[f\"{user}\"][\"message\"]\n",
    "    print(f\"Message content: {msg}\")\n",
    "    username = \"therapist_1\" if user == \"agent\" else \"user_1\"\n",
    "    TherapyGraph.add_message_node(text=msg, conversation_id=\"conv_1\", message_id=f\"msg_{i}\", username=username)"
   ]
  }
 ],
 "metadata": {
  "kernelspec": {
   "display_name": "Python 3",
   "language": "python",
   "name": "python3"
  },
  "language_info": {
   "codemirror_mode": {
    "name": "ipython",
    "version": 3
   },
   "file_extension": ".py",
   "mimetype": "text/x-python",
   "name": "python",
   "nbconvert_exporter": "python",
   "pygments_lexer": "ipython3",
   "version": "3.10.12"
  }
 },
 "nbformat": 4,
 "nbformat_minor": 5
}
