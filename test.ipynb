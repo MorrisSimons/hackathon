{
 "cells": [
  {
   "cell_type": "code",
   "execution_count": 1,
   "id": "b984050f",
   "metadata": {},
   "outputs": [
    {
     "name": "stdout",
     "output_type": "stream",
     "text": [
      "Connection successful!\n",
      "Connected to Neo4j database successfully!\n"
     ]
    }
   ],
   "source": [
    "from main import TherapyGraph\n",
    "import json"
   ]
  },
  {
   "cell_type": "code",
   "execution_count": 6,
   "id": "ee8babcf",
   "metadata": {},
   "outputs": [
    {
     "name": "stdout",
     "output_type": "stream",
     "text": [
      "All username nodes deleted successfully!\n",
      "Remaining username nodes: 0\n",
      "All message nodes deleted successfully!\n",
      "Remaining message nodes: 0\n",
      "All emotion nodes deleted successfully!\n",
      "Remaining emotion nodes: 0\n",
      "Total emotions: 77\n",
      "Human emotions list created successfully!\n"
     ]
    },
    {
     "data": {
      "text/plain": [
       "<Record u=<Node element_id='4:ca7b4fdd-56c0-4663-a686-ea51332c9fec:464' labels=frozenset({'Username'}) properties={'name': 'Our_Therapist', 'created_at': neo4j.time.DateTime(2025, 5, 27, 2, 6, 8, 773000000, tzinfo=<UTC>), 'username': 'therapist_1'}>>"
      ]
     },
     "execution_count": 6,
     "metadata": {},
     "output_type": "execute_result"
    }
   ],
   "source": [
    "TherapyGraph.delete_all_usernames()\n",
    "TherapyGraph.delete_all_messages()\n",
    "TherapyGraph.delete_emotions_classes()\n",
    "TherapyGraph.insert_emotions_as_nodes()\n",
    "\n",
    "TherapyGraph.add_username(name=\"John Doe\", username=\"user_1\")\n",
    "TherapyGraph.add_username(name=\"Our_Therapist\", username=\"therapist_1\")"
   ]
  },
  {
   "cell_type": "code",
   "execution_count": null,
   "id": "543a7d40",
   "metadata": {},
   "outputs": [
    {
     "name": "stdout",
     "output_type": "stream",
     "text": [
      "joy\n",
      "happiness\n",
      "sadness\n",
      "anger\n",
      "fear\n",
      "disgust\n",
      "surprise\n",
      "love\n",
      "hate\n",
      "excitement\n",
      "anxiety\n",
      "depression\n",
      "guilt\n",
      "shame\n",
      "pride\n",
      "envy\n",
      "jealousy\n",
      "gratitude\n",
      "hope\n",
      "despair\n",
      "grief\n",
      "relief\n",
      "contentment\n",
      "boredom\n",
      "curiosity\n",
      "confusion\n",
      "frustration\n",
      "irritation\n",
      "rage\n",
      "fury\n",
      "terror\n",
      "panic\n",
      "worry\n",
      "stress\n",
      "calm\n",
      "peace\n",
      "serenity\n",
      "bliss\n",
      "euphoria\n",
      "melancholy\n",
      "loneliness\n",
      "nostalgia\n",
      "regret\n",
      "remorse\n",
      "compassion\n",
      "empathy\n",
      "sympathy\n",
      "admiration\n",
      "respect\n",
      "contempt\n",
      "disdain\n",
      "awe\n",
      "wonder\n",
      "amazement\n",
      "enthusiasm\n",
      "passion\n",
      "desire\n",
      "lust\n",
      "affection\n",
      "tenderness\n",
      "warmth\n",
      "hostility\n",
      "resentment\n",
      "bitterness\n",
      "forgiveness\n",
      "acceptance\n",
      "rejection\n",
      "approval\n",
      "disapproval\n",
      "trust\n",
      "distrust\n",
      "confidence\n",
      "doubt\n",
      "certainty\n",
      "uncertainty\n",
      "optimism\n",
      "pessimism\n"
     ]
    },
    {
     "data": {
      "text/plain": [
       "[<Node element_id='4:ca7b4fdd-56c0-4663-a686-ea51332c9fec:386' labels=frozenset({'Emotion'}) properties={'name': 'joy', 'created_at': neo4j.time.DateTime(2025, 5, 27, 2, 6, 5, 357000000, tzinfo=<UTC>)}>,\n",
       " <Node element_id='4:ca7b4fdd-56c0-4663-a686-ea51332c9fec:387' labels=frozenset({'Emotion'}) properties={'name': 'happiness', 'created_at': neo4j.time.DateTime(2025, 5, 27, 2, 6, 5, 445000000, tzinfo=<UTC>)}>,\n",
       " <Node element_id='4:ca7b4fdd-56c0-4663-a686-ea51332c9fec:388' labels=frozenset({'Emotion'}) properties={'name': 'sadness', 'created_at': neo4j.time.DateTime(2025, 5, 27, 2, 6, 5, 490000000, tzinfo=<UTC>)}>,\n",
       " <Node element_id='4:ca7b4fdd-56c0-4663-a686-ea51332c9fec:389' labels=frozenset({'Emotion'}) properties={'name': 'anger', 'created_at': neo4j.time.DateTime(2025, 5, 27, 2, 6, 5, 531000000, tzinfo=<UTC>)}>,\n",
       " <Node element_id='4:ca7b4fdd-56c0-4663-a686-ea51332c9fec:390' labels=frozenset({'Emotion'}) properties={'name': 'fear', 'created_at': neo4j.time.DateTime(2025, 5, 27, 2, 6, 5, 573000000, tzinfo=<UTC>)}>,\n",
       " <Node element_id='4:ca7b4fdd-56c0-4663-a686-ea51332c9fec:391' labels=frozenset({'Emotion'}) properties={'name': 'disgust', 'created_at': neo4j.time.DateTime(2025, 5, 27, 2, 6, 5, 618000000, tzinfo=<UTC>)}>,\n",
       " <Node element_id='4:ca7b4fdd-56c0-4663-a686-ea51332c9fec:392' labels=frozenset({'Emotion'}) properties={'name': 'surprise', 'created_at': neo4j.time.DateTime(2025, 5, 27, 2, 6, 5, 666000000, tzinfo=<UTC>)}>,\n",
       " <Node element_id='4:ca7b4fdd-56c0-4663-a686-ea51332c9fec:393' labels=frozenset({'Emotion'}) properties={'name': 'love', 'created_at': neo4j.time.DateTime(2025, 5, 27, 2, 6, 5, 706000000, tzinfo=<UTC>)}>,\n",
       " <Node element_id='4:ca7b4fdd-56c0-4663-a686-ea51332c9fec:394' labels=frozenset({'Emotion'}) properties={'name': 'hate', 'created_at': neo4j.time.DateTime(2025, 5, 27, 2, 6, 5, 748000000, tzinfo=<UTC>)}>,\n",
       " <Node element_id='4:ca7b4fdd-56c0-4663-a686-ea51332c9fec:395' labels=frozenset({'Emotion'}) properties={'name': 'excitement', 'created_at': neo4j.time.DateTime(2025, 5, 27, 2, 6, 5, 788000000, tzinfo=<UTC>)}>,\n",
       " <Node element_id='4:ca7b4fdd-56c0-4663-a686-ea51332c9fec:396' labels=frozenset({'Emotion'}) properties={'name': 'anxiety', 'created_at': neo4j.time.DateTime(2025, 5, 27, 2, 6, 5, 829000000, tzinfo=<UTC>)}>,\n",
       " <Node element_id='4:ca7b4fdd-56c0-4663-a686-ea51332c9fec:397' labels=frozenset({'Emotion'}) properties={'name': 'depression', 'created_at': neo4j.time.DateTime(2025, 5, 27, 2, 6, 5, 877000000, tzinfo=<UTC>)}>,\n",
       " <Node element_id='4:ca7b4fdd-56c0-4663-a686-ea51332c9fec:398' labels=frozenset({'Emotion'}) properties={'name': 'guilt', 'created_at': neo4j.time.DateTime(2025, 5, 27, 2, 6, 5, 917000000, tzinfo=<UTC>)}>,\n",
       " <Node element_id='4:ca7b4fdd-56c0-4663-a686-ea51332c9fec:399' labels=frozenset({'Emotion'}) properties={'name': 'shame', 'created_at': neo4j.time.DateTime(2025, 5, 27, 2, 6, 5, 958000000, tzinfo=<UTC>)}>,\n",
       " <Node element_id='4:ca7b4fdd-56c0-4663-a686-ea51332c9fec:400' labels=frozenset({'Emotion'}) properties={'name': 'pride', 'created_at': neo4j.time.DateTime(2025, 5, 27, 2, 6, 6, 0, tzinfo=<UTC>)}>,\n",
       " <Node element_id='4:ca7b4fdd-56c0-4663-a686-ea51332c9fec:401' labels=frozenset({'Emotion'}) properties={'name': 'envy', 'created_at': neo4j.time.DateTime(2025, 5, 27, 2, 6, 6, 39000000, tzinfo=<UTC>)}>,\n",
       " <Node element_id='4:ca7b4fdd-56c0-4663-a686-ea51332c9fec:402' labels=frozenset({'Emotion'}) properties={'name': 'jealousy', 'created_at': neo4j.time.DateTime(2025, 5, 27, 2, 6, 6, 83000000, tzinfo=<UTC>)}>,\n",
       " <Node element_id='4:ca7b4fdd-56c0-4663-a686-ea51332c9fec:403' labels=frozenset({'Emotion'}) properties={'name': 'gratitude', 'created_at': neo4j.time.DateTime(2025, 5, 27, 2, 6, 6, 131000000, tzinfo=<UTC>)}>,\n",
       " <Node element_id='4:ca7b4fdd-56c0-4663-a686-ea51332c9fec:404' labels=frozenset({'Emotion'}) properties={'name': 'hope', 'created_at': neo4j.time.DateTime(2025, 5, 27, 2, 6, 6, 176000000, tzinfo=<UTC>)}>,\n",
       " <Node element_id='4:ca7b4fdd-56c0-4663-a686-ea51332c9fec:405' labels=frozenset({'Emotion'}) properties={'name': 'despair', 'created_at': neo4j.time.DateTime(2025, 5, 27, 2, 6, 6, 217000000, tzinfo=<UTC>)}>,\n",
       " <Node element_id='4:ca7b4fdd-56c0-4663-a686-ea51332c9fec:406' labels=frozenset({'Emotion'}) properties={'name': 'grief', 'created_at': neo4j.time.DateTime(2025, 5, 27, 2, 6, 6, 258000000, tzinfo=<UTC>)}>,\n",
       " <Node element_id='4:ca7b4fdd-56c0-4663-a686-ea51332c9fec:407' labels=frozenset({'Emotion'}) properties={'name': 'relief', 'created_at': neo4j.time.DateTime(2025, 5, 27, 2, 6, 6, 298000000, tzinfo=<UTC>)}>,\n",
       " <Node element_id='4:ca7b4fdd-56c0-4663-a686-ea51332c9fec:408' labels=frozenset({'Emotion'}) properties={'name': 'contentment', 'created_at': neo4j.time.DateTime(2025, 5, 27, 2, 6, 6, 337000000, tzinfo=<UTC>)}>,\n",
       " <Node element_id='4:ca7b4fdd-56c0-4663-a686-ea51332c9fec:409' labels=frozenset({'Emotion'}) properties={'name': 'boredom', 'created_at': neo4j.time.DateTime(2025, 5, 27, 2, 6, 6, 398000000, tzinfo=<UTC>)}>,\n",
       " <Node element_id='4:ca7b4fdd-56c0-4663-a686-ea51332c9fec:410' labels=frozenset({'Emotion'}) properties={'name': 'curiosity', 'created_at': neo4j.time.DateTime(2025, 5, 27, 2, 6, 6, 442000000, tzinfo=<UTC>)}>,\n",
       " <Node element_id='4:ca7b4fdd-56c0-4663-a686-ea51332c9fec:411' labels=frozenset({'Emotion'}) properties={'name': 'confusion', 'created_at': neo4j.time.DateTime(2025, 5, 27, 2, 6, 6, 483000000, tzinfo=<UTC>)}>,\n",
       " <Node element_id='4:ca7b4fdd-56c0-4663-a686-ea51332c9fec:412' labels=frozenset({'Emotion'}) properties={'name': 'frustration', 'created_at': neo4j.time.DateTime(2025, 5, 27, 2, 6, 6, 524000000, tzinfo=<UTC>)}>,\n",
       " <Node element_id='4:ca7b4fdd-56c0-4663-a686-ea51332c9fec:413' labels=frozenset({'Emotion'}) properties={'name': 'irritation', 'created_at': neo4j.time.DateTime(2025, 5, 27, 2, 6, 6, 562000000, tzinfo=<UTC>)}>,\n",
       " <Node element_id='4:ca7b4fdd-56c0-4663-a686-ea51332c9fec:414' labels=frozenset({'Emotion'}) properties={'name': 'rage', 'created_at': neo4j.time.DateTime(2025, 5, 27, 2, 6, 6, 615000000, tzinfo=<UTC>)}>,\n",
       " <Node element_id='4:ca7b4fdd-56c0-4663-a686-ea51332c9fec:415' labels=frozenset({'Emotion'}) properties={'name': 'fury', 'created_at': neo4j.time.DateTime(2025, 5, 27, 2, 6, 6, 655000000, tzinfo=<UTC>)}>,\n",
       " <Node element_id='4:ca7b4fdd-56c0-4663-a686-ea51332c9fec:416' labels=frozenset({'Emotion'}) properties={'name': 'terror', 'created_at': neo4j.time.DateTime(2025, 5, 27, 2, 6, 6, 695000000, tzinfo=<UTC>)}>,\n",
       " <Node element_id='4:ca7b4fdd-56c0-4663-a686-ea51332c9fec:417' labels=frozenset({'Emotion'}) properties={'name': 'panic', 'created_at': neo4j.time.DateTime(2025, 5, 27, 2, 6, 6, 736000000, tzinfo=<UTC>)}>,\n",
       " <Node element_id='4:ca7b4fdd-56c0-4663-a686-ea51332c9fec:418' labels=frozenset({'Emotion'}) properties={'name': 'worry', 'created_at': neo4j.time.DateTime(2025, 5, 27, 2, 6, 6, 781000000, tzinfo=<UTC>)}>,\n",
       " <Node element_id='4:ca7b4fdd-56c0-4663-a686-ea51332c9fec:419' labels=frozenset({'Emotion'}) properties={'name': 'stress', 'created_at': neo4j.time.DateTime(2025, 5, 27, 2, 6, 6, 820000000, tzinfo=<UTC>)}>,\n",
       " <Node element_id='4:ca7b4fdd-56c0-4663-a686-ea51332c9fec:420' labels=frozenset({'Emotion'}) properties={'name': 'calm', 'created_at': neo4j.time.DateTime(2025, 5, 27, 2, 6, 6, 865000000, tzinfo=<UTC>)}>,\n",
       " <Node element_id='4:ca7b4fdd-56c0-4663-a686-ea51332c9fec:421' labels=frozenset({'Emotion'}) properties={'name': 'peace', 'created_at': neo4j.time.DateTime(2025, 5, 27, 2, 6, 6, 909000000, tzinfo=<UTC>)}>,\n",
       " <Node element_id='4:ca7b4fdd-56c0-4663-a686-ea51332c9fec:422' labels=frozenset({'Emotion'}) properties={'name': 'serenity', 'created_at': neo4j.time.DateTime(2025, 5, 27, 2, 6, 6, 950000000, tzinfo=<UTC>)}>,\n",
       " <Node element_id='4:ca7b4fdd-56c0-4663-a686-ea51332c9fec:423' labels=frozenset({'Emotion'}) properties={'name': 'bliss', 'created_at': neo4j.time.DateTime(2025, 5, 27, 2, 6, 6, 993000000, tzinfo=<UTC>)}>,\n",
       " <Node element_id='4:ca7b4fdd-56c0-4663-a686-ea51332c9fec:424' labels=frozenset({'Emotion'}) properties={'name': 'euphoria', 'created_at': neo4j.time.DateTime(2025, 5, 27, 2, 6, 7, 37000000, tzinfo=<UTC>)}>,\n",
       " <Node element_id='4:ca7b4fdd-56c0-4663-a686-ea51332c9fec:425' labels=frozenset({'Emotion'}) properties={'name': 'melancholy', 'created_at': neo4j.time.DateTime(2025, 5, 27, 2, 6, 7, 79000000, tzinfo=<UTC>)}>,\n",
       " <Node element_id='4:ca7b4fdd-56c0-4663-a686-ea51332c9fec:426' labels=frozenset({'Emotion'}) properties={'name': 'loneliness', 'created_at': neo4j.time.DateTime(2025, 5, 27, 2, 6, 7, 117000000, tzinfo=<UTC>)}>,\n",
       " <Node element_id='4:ca7b4fdd-56c0-4663-a686-ea51332c9fec:427' labels=frozenset({'Emotion'}) properties={'name': 'nostalgia', 'created_at': neo4j.time.DateTime(2025, 5, 27, 2, 6, 7, 156000000, tzinfo=<UTC>)}>,\n",
       " <Node element_id='4:ca7b4fdd-56c0-4663-a686-ea51332c9fec:428' labels=frozenset({'Emotion'}) properties={'name': 'regret', 'created_at': neo4j.time.DateTime(2025, 5, 27, 2, 6, 7, 196000000, tzinfo=<UTC>)}>,\n",
       " <Node element_id='4:ca7b4fdd-56c0-4663-a686-ea51332c9fec:429' labels=frozenset({'Emotion'}) properties={'name': 'remorse', 'created_at': neo4j.time.DateTime(2025, 5, 27, 2, 6, 7, 236000000, tzinfo=<UTC>)}>,\n",
       " <Node element_id='4:ca7b4fdd-56c0-4663-a686-ea51332c9fec:430' labels=frozenset({'Emotion'}) properties={'name': 'compassion', 'created_at': neo4j.time.DateTime(2025, 5, 27, 2, 6, 7, 277000000, tzinfo=<UTC>)}>,\n",
       " <Node element_id='4:ca7b4fdd-56c0-4663-a686-ea51332c9fec:431' labels=frozenset({'Emotion'}) properties={'name': 'empathy', 'created_at': neo4j.time.DateTime(2025, 5, 27, 2, 6, 7, 319000000, tzinfo=<UTC>)}>,\n",
       " <Node element_id='4:ca7b4fdd-56c0-4663-a686-ea51332c9fec:432' labels=frozenset({'Emotion'}) properties={'name': 'sympathy', 'created_at': neo4j.time.DateTime(2025, 5, 27, 2, 6, 7, 360000000, tzinfo=<UTC>)}>,\n",
       " <Node element_id='4:ca7b4fdd-56c0-4663-a686-ea51332c9fec:433' labels=frozenset({'Emotion'}) properties={'name': 'admiration', 'created_at': neo4j.time.DateTime(2025, 5, 27, 2, 6, 7, 401000000, tzinfo=<UTC>)}>,\n",
       " <Node element_id='4:ca7b4fdd-56c0-4663-a686-ea51332c9fec:434' labels=frozenset({'Emotion'}) properties={'name': 'respect', 'created_at': neo4j.time.DateTime(2025, 5, 27, 2, 6, 7, 443000000, tzinfo=<UTC>)}>,\n",
       " <Node element_id='4:ca7b4fdd-56c0-4663-a686-ea51332c9fec:435' labels=frozenset({'Emotion'}) properties={'name': 'contempt', 'created_at': neo4j.time.DateTime(2025, 5, 27, 2, 6, 7, 485000000, tzinfo=<UTC>)}>,\n",
       " <Node element_id='4:ca7b4fdd-56c0-4663-a686-ea51332c9fec:436' labels=frozenset({'Emotion'}) properties={'name': 'disdain', 'created_at': neo4j.time.DateTime(2025, 5, 27, 2, 6, 7, 527000000, tzinfo=<UTC>)}>,\n",
       " <Node element_id='4:ca7b4fdd-56c0-4663-a686-ea51332c9fec:437' labels=frozenset({'Emotion'}) properties={'name': 'awe', 'created_at': neo4j.time.DateTime(2025, 5, 27, 2, 6, 7, 567000000, tzinfo=<UTC>)}>,\n",
       " <Node element_id='4:ca7b4fdd-56c0-4663-a686-ea51332c9fec:438' labels=frozenset({'Emotion'}) properties={'name': 'wonder', 'created_at': neo4j.time.DateTime(2025, 5, 27, 2, 6, 7, 607000000, tzinfo=<UTC>)}>,\n",
       " <Node element_id='4:ca7b4fdd-56c0-4663-a686-ea51332c9fec:439' labels=frozenset({'Emotion'}) properties={'name': 'amazement', 'created_at': neo4j.time.DateTime(2025, 5, 27, 2, 6, 7, 647000000, tzinfo=<UTC>)}>,\n",
       " <Node element_id='4:ca7b4fdd-56c0-4663-a686-ea51332c9fec:440' labels=frozenset({'Emotion'}) properties={'name': 'enthusiasm', 'created_at': neo4j.time.DateTime(2025, 5, 27, 2, 6, 7, 686000000, tzinfo=<UTC>)}>,\n",
       " <Node element_id='4:ca7b4fdd-56c0-4663-a686-ea51332c9fec:441' labels=frozenset({'Emotion'}) properties={'name': 'passion', 'created_at': neo4j.time.DateTime(2025, 5, 27, 2, 6, 7, 731000000, tzinfo=<UTC>)}>,\n",
       " <Node element_id='4:ca7b4fdd-56c0-4663-a686-ea51332c9fec:442' labels=frozenset({'Emotion'}) properties={'name': 'desire', 'created_at': neo4j.time.DateTime(2025, 5, 27, 2, 6, 7, 770000000, tzinfo=<UTC>)}>,\n",
       " <Node element_id='4:ca7b4fdd-56c0-4663-a686-ea51332c9fec:443' labels=frozenset({'Emotion'}) properties={'name': 'lust', 'created_at': neo4j.time.DateTime(2025, 5, 27, 2, 6, 7, 811000000, tzinfo=<UTC>)}>,\n",
       " <Node element_id='4:ca7b4fdd-56c0-4663-a686-ea51332c9fec:444' labels=frozenset({'Emotion'}) properties={'name': 'affection', 'created_at': neo4j.time.DateTime(2025, 5, 27, 2, 6, 7, 867000000, tzinfo=<UTC>)}>,\n",
       " <Node element_id='4:ca7b4fdd-56c0-4663-a686-ea51332c9fec:445' labels=frozenset({'Emotion'}) properties={'name': 'tenderness', 'created_at': neo4j.time.DateTime(2025, 5, 27, 2, 6, 7, 918000000, tzinfo=<UTC>)}>,\n",
       " <Node element_id='4:ca7b4fdd-56c0-4663-a686-ea51332c9fec:446' labels=frozenset({'Emotion'}) properties={'name': 'warmth', 'created_at': neo4j.time.DateTime(2025, 5, 27, 2, 6, 7, 964000000, tzinfo=<UTC>)}>,\n",
       " <Node element_id='4:ca7b4fdd-56c0-4663-a686-ea51332c9fec:447' labels=frozenset({'Emotion'}) properties={'name': 'hostility', 'created_at': neo4j.time.DateTime(2025, 5, 27, 2, 6, 8, 4000000, tzinfo=<UTC>)}>,\n",
       " <Node element_id='4:ca7b4fdd-56c0-4663-a686-ea51332c9fec:448' labels=frozenset({'Emotion'}) properties={'name': 'resentment', 'created_at': neo4j.time.DateTime(2025, 5, 27, 2, 6, 8, 46000000, tzinfo=<UTC>)}>,\n",
       " <Node element_id='4:ca7b4fdd-56c0-4663-a686-ea51332c9fec:449' labels=frozenset({'Emotion'}) properties={'name': 'bitterness', 'created_at': neo4j.time.DateTime(2025, 5, 27, 2, 6, 8, 86000000, tzinfo=<UTC>)}>,\n",
       " <Node element_id='4:ca7b4fdd-56c0-4663-a686-ea51332c9fec:450' labels=frozenset({'Emotion'}) properties={'name': 'forgiveness', 'created_at': neo4j.time.DateTime(2025, 5, 27, 2, 6, 8, 131000000, tzinfo=<UTC>)}>,\n",
       " <Node element_id='4:ca7b4fdd-56c0-4663-a686-ea51332c9fec:451' labels=frozenset({'Emotion'}) properties={'name': 'acceptance', 'created_at': neo4j.time.DateTime(2025, 5, 27, 2, 6, 8, 174000000, tzinfo=<UTC>)}>,\n",
       " <Node element_id='4:ca7b4fdd-56c0-4663-a686-ea51332c9fec:452' labels=frozenset({'Emotion'}) properties={'name': 'rejection', 'created_at': neo4j.time.DateTime(2025, 5, 27, 2, 6, 8, 215000000, tzinfo=<UTC>)}>,\n",
       " <Node element_id='4:ca7b4fdd-56c0-4663-a686-ea51332c9fec:453' labels=frozenset({'Emotion'}) properties={'name': 'approval', 'created_at': neo4j.time.DateTime(2025, 5, 27, 2, 6, 8, 254000000, tzinfo=<UTC>)}>,\n",
       " <Node element_id='4:ca7b4fdd-56c0-4663-a686-ea51332c9fec:454' labels=frozenset({'Emotion'}) properties={'name': 'disapproval', 'created_at': neo4j.time.DateTime(2025, 5, 27, 2, 6, 8, 293000000, tzinfo=<UTC>)}>,\n",
       " <Node element_id='4:ca7b4fdd-56c0-4663-a686-ea51332c9fec:455' labels=frozenset({'Emotion'}) properties={'name': 'trust', 'created_at': neo4j.time.DateTime(2025, 5, 27, 2, 6, 8, 333000000, tzinfo=<UTC>)}>,\n",
       " <Node element_id='4:ca7b4fdd-56c0-4663-a686-ea51332c9fec:456' labels=frozenset({'Emotion'}) properties={'name': 'distrust', 'created_at': neo4j.time.DateTime(2025, 5, 27, 2, 6, 8, 379000000, tzinfo=<UTC>)}>,\n",
       " <Node element_id='4:ca7b4fdd-56c0-4663-a686-ea51332c9fec:457' labels=frozenset({'Emotion'}) properties={'name': 'confidence', 'created_at': neo4j.time.DateTime(2025, 5, 27, 2, 6, 8, 419000000, tzinfo=<UTC>)}>,\n",
       " <Node element_id='4:ca7b4fdd-56c0-4663-a686-ea51332c9fec:458' labels=frozenset({'Emotion'}) properties={'name': 'doubt', 'created_at': neo4j.time.DateTime(2025, 5, 27, 2, 6, 8, 461000000, tzinfo=<UTC>)}>,\n",
       " <Node element_id='4:ca7b4fdd-56c0-4663-a686-ea51332c9fec:459' labels=frozenset({'Emotion'}) properties={'name': 'certainty', 'created_at': neo4j.time.DateTime(2025, 5, 27, 2, 6, 8, 504000000, tzinfo=<UTC>)}>,\n",
       " <Node element_id='4:ca7b4fdd-56c0-4663-a686-ea51332c9fec:460' labels=frozenset({'Emotion'}) properties={'name': 'uncertainty', 'created_at': neo4j.time.DateTime(2025, 5, 27, 2, 6, 8, 548000000, tzinfo=<UTC>)}>,\n",
       " <Node element_id='4:ca7b4fdd-56c0-4663-a686-ea51332c9fec:461' labels=frozenset({'Emotion'}) properties={'name': 'optimism', 'created_at': neo4j.time.DateTime(2025, 5, 27, 2, 6, 8, 593000000, tzinfo=<UTC>)}>,\n",
       " <Node element_id='4:ca7b4fdd-56c0-4663-a686-ea51332c9fec:462' labels=frozenset({'Emotion'}) properties={'name': 'pessimism', 'created_at': neo4j.time.DateTime(2025, 5, 27, 2, 6, 8, 636000000, tzinfo=<UTC>)}>]"
      ]
     },
     "execution_count": 7,
     "metadata": {},
     "output_type": "execute_result"
    }
   ],
   "source": [
    "emotions = TherapyGraph.get_all_emotions(True)\n"
   ]
  },
  {
   "cell_type": "code",
   "execution_count": null,
   "id": "636b2204",
   "metadata": {},
   "outputs": [
    {
     "name": "stdout",
     "output_type": "stream",
     "text": [
      "Adding message 0 from user agent\n",
      "Message content: hello, how can i help you today? \n",
      "Adding message 1 from user user\n",
      "Message content: hi, my dad beat me when i was child i think of this sometimes like now, that makes me sad. \n"
     ]
    }
   ],
   "source": [
    "with open('test_msg.json', 'r') as file:\n",
    "    agent_message = json.load(file)\n",
    "\n",
    "\n",
    "for i, user in enumerate(agent_message):\n",
    "    print(f\"Adding message {i} from user {user}\")\n",
    "    msg = agent_message[f\"{user}\"][\"message\"]\n",
    "    print(f\"Message content: {msg}\")\n",
    "    username = \"therapist_1\" if user == \"agent\" else \"user_1\"\n",
    "    TherapyGraph.add_message_node(text=msg, conversation_id=\"conv_1\", message_id=f\"msg_{i}\", username=username)\n",
    "    \n",
    "    \n",
    "    "
   ]
  }
 ],
 "metadata": {
  "kernelspec": {
   "display_name": "Python 3",
   "language": "python",
   "name": "python3"
  },
  "language_info": {
   "codemirror_mode": {
    "name": "ipython",
    "version": 3
   },
   "file_extension": ".py",
   "mimetype": "text/x-python",
   "name": "python",
   "nbconvert_exporter": "python",
   "pygments_lexer": "ipython3",
   "version": "3.10.12"
  }
 },
 "nbformat": 4,
 "nbformat_minor": 5
}
