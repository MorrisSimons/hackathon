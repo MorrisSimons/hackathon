{
 "cells": [
  {
   "cell_type": "code",
   "execution_count": 1,
   "id": "b984050f",
   "metadata": {},
   "outputs": [
    {
     "name": "stdout",
     "output_type": "stream",
     "text": [
      "Connection successful!\n",
      "Connected to Neo4j database successfully!\n"
     ]
    }
   ],
   "source": [
    "from main import TherapyGraph\n",
    "import json"
   ]
  },
  {
   "cell_type": "code",
   "execution_count": null,
   "id": "da9151df",
   "metadata": {},
   "outputs": [
    {
     "data": {
      "text/plain": [
       "8"
      ]
     },
     "execution_count": 2,
     "metadata": {},
     "output_type": "execute_result"
    }
   ],
   "source": [
    "#TherapyGraph.delete_emotions_classes()\n",
    "#TherapyGraph.insert_emotions_as_nodes()\n",
    "#TherapyGraph.insert_relationships()"
   ]
  },
  {
   "cell_type": "code",
   "execution_count": 3,
   "id": "ee8babcf",
   "metadata": {},
   "outputs": [
    {
     "name": "stdout",
     "output_type": "stream",
     "text": [
      "All username nodes deleted successfully!\n",
      "Remaining username nodes: 0\n",
      "All message nodes deleted successfully!\n",
      "Remaining message nodes: 0\n",
      "All emotion connections deleted successfully!\n",
      "Remaining emotion connections: 0\n",
      "All person nodes deleted successfully!\n",
      "Remaining person nodes: 0\n"
     ]
    },
    {
     "data": {
      "text/plain": [
       "<Record u=<Node element_id='4:ca7b4fdd-56c0-4663-a686-ea51332c9fec:3' labels=frozenset({'Username'}) properties={'name': 'Our_Therapist', 'created_at': neo4j.time.DateTime(2025, 5, 27, 4, 23, 10, 831000000, tzinfo=<UTC>), 'username': 'therapist_1'}>>"
      ]
     },
     "execution_count": 3,
     "metadata": {},
     "output_type": "execute_result"
    }
   ],
   "source": [
    "TherapyGraph.delete_all_usernames()\n",
    "TherapyGraph.delete_all_messages()\n",
    "TherapyGraph.delete_all_emotion_connections()\n",
    "TherapyGraph.delete_all_people()\n",
    "\n",
    "TherapyGraph.add_username(name=\"John Doe\", username=\"user_1\")\n",
    "TherapyGraph.add_username(name=\"Our_Therapist\", username=\"therapist_1\")"
   ]
  },
  {
   "cell_type": "code",
   "execution_count": 4,
   "id": "543a7d40",
   "metadata": {},
   "outputs": [
    {
     "name": "stdout",
     "output_type": "stream",
     "text": [
      "empathy\n",
      "tenderness\n",
      "warmth\n",
      "hostility\n",
      "resentment\n",
      "bitterness\n",
      "forgiveness\n",
      "acceptance\n",
      "rejection\n",
      "approval\n",
      "disapproval\n",
      "trust\n",
      "distrust\n",
      "confidence\n",
      "doubt\n",
      "certainty\n",
      "uncertainty\n",
      "optimism\n",
      "pessimism\n",
      "serenity\n",
      "bliss\n",
      "euphoria\n",
      "melancholy\n",
      "loneliness\n",
      "nostalgia\n",
      "regret\n",
      "remorse\n",
      "compassion\n",
      "contempt\n",
      "disdain\n",
      "awe\n",
      "wonder\n",
      "amazement\n",
      "enthusiasm\n",
      "passion\n",
      "desire\n",
      "lust\n",
      "affection\n",
      "joy\n",
      "happiness\n",
      "sadness\n",
      "anger\n",
      "fear\n",
      "disgust\n",
      "surprise\n",
      "love\n",
      "hate\n",
      "excitement\n",
      "admiration\n",
      "respect\n",
      "sympathy\n",
      "terror\n",
      "panic\n",
      "worry\n",
      "stress\n",
      "calm\n",
      "peace\n",
      "envy\n",
      "frustration\n",
      "grief\n",
      "boredom\n",
      "gratitude\n",
      "anxiety\n",
      "guilt\n",
      "depression\n",
      "curiosity\n",
      "confusion\n",
      "despair\n",
      "hope\n",
      "irritation\n",
      "fury\n",
      "relief\n",
      "shame\n",
      "rage\n",
      "jealousy\n",
      "pride\n",
      "contentment\n"
     ]
    }
   ],
   "source": [
    "emotions = TherapyGraph.get_all_emotions(True)\n"
   ]
  },
  {
   "cell_type": "code",
   "execution_count": 5,
   "id": "d7c3924b",
   "metadata": {},
   "outputs": [],
   "source": [
    "from langchain_openai import ChatOpenAI\n"
   ]
  },
  {
   "cell_type": "code",
   "execution_count": 6,
   "id": "63e266ae",
   "metadata": {},
   "outputs": [],
   "source": [
    "llm = ChatOpenAI(model_name=\"gpt-4.1-mini\", temperature=0.3)"
   ]
  },
  {
   "cell_type": "code",
   "execution_count": 7,
   "id": "cb1350c6",
   "metadata": {},
   "outputs": [
    {
     "name": "stdout",
     "output_type": "stream",
     "text": [
      "['empathy', 'tenderness', 'warmth', 'hostility', 'resentment', 'bitterness', 'forgiveness', 'acceptance', 'rejection', 'approval', 'disapproval', 'trust', 'distrust', 'confidence', 'doubt', 'certainty', 'uncertainty', 'optimism', 'pessimism', 'serenity', 'bliss', 'euphoria', 'melancholy', 'loneliness', 'nostalgia', 'regret', 'remorse', 'compassion', 'contempt', 'disdain', 'awe', 'wonder', 'amazement', 'enthusiasm', 'passion', 'desire', 'lust', 'affection', 'joy', 'happiness', 'sadness', 'anger', 'fear', 'disgust', 'surprise', 'love', 'hate', 'excitement', 'admiration', 'respect', 'sympathy', 'terror', 'panic', 'worry', 'stress', 'calm', 'peace', 'envy', 'frustration', 'grief', 'boredom', 'gratitude', 'anxiety', 'guilt', 'depression', 'curiosity', 'confusion', 'despair', 'hope', 'irritation', 'fury', 'relief', 'shame', 'rage', 'jealousy', 'pride', 'contentment']\n"
     ]
    }
   ],
   "source": [
    "emotion_names = [emotion['name'] for emotion in emotions]\n",
    "print(emotion_names)"
   ]
  },
  {
   "cell_type": "code",
   "execution_count": 8,
   "id": "f5e06439",
   "metadata": {},
   "outputs": [],
   "source": [
    "relationships_labels =  TherapyGraph.get_all_relationships()"
   ]
  },
  {
   "cell_type": "code",
   "execution_count": 9,
   "id": "ac2d70c8",
   "metadata": {},
   "outputs": [],
   "source": [
    "relationships = [relatioship[\"type\"] for relatioship in relationships_labels]"
   ]
  },
  {
   "cell_type": "code",
   "execution_count": 10,
   "id": "8d761c71",
   "metadata": {},
   "outputs": [],
   "source": [
    "def connect_emotions(analysis, i):\n",
    "     # Create emotion relationships\n",
    "    if 'emotions' in analysis:\n",
    "        for emotion_name in analysis['emotions']:\n",
    "            if emotion_name in emotion_names:\n",
    "                emotion_node_id = f\"emotion_{emotion_name.lower().replace(' ', '_')}\"\n",
    "                print(f\"Connecting emotion '{emotion_name}' to message {i}\")\n",
    "                TherapyGraph.connect_emotion(message_id=f\"msg_{i}\", emotion_name = emotion_name)\n",
    "            else:\n",
    "                print(f\"Emotion '{emotion_name}' not found in the list.\")\n",
    "                continue"
   ]
  },
  {
   "cell_type": "code",
   "execution_count": null,
   "id": "636b2204",
   "metadata": {},
   "outputs": [
    {
     "name": "stdout",
     "output_type": "stream",
     "text": [
      "Adding message msg_001 from agent\n",
      "Message content: hello, how can i help you today? \n",
      "Analysis for message msg_001: {'emotions': ['helpfulness'], 'relationships': None}\n",
      "Emotion 'helpfulness' not found in the list.\n",
      "No relationships found in this message.\n",
      "Adding message msg_002 from user\n",
      "Message content: hi, my dad beat me when i was child i think of this sometimes like now, that makes me sad. \n",
      "Analysis for message msg_002: {'emotions': ['sadness'], 'relationships': ['dad']}\n",
      "Connecting emotion 'sadness' to message msg_002\n",
      "Emotion 'sadness' added to message 'msg_msg_002' successfully!\n",
      "Creating relationship node for: dad\n",
      "Adding message msg_003 from agent\n",
      "Message content: that is not very good, how does that affect you now? \n",
      "Analysis for message msg_003: {'emotions': ['concern', 'worry'], 'relationships': None}\n",
      "Emotion 'concern' not found in the list.\n",
      "Connecting emotion 'worry' to message msg_003\n",
      "Emotion 'worry' added to message 'msg_msg_003' successfully!\n",
      "No relationships found in this message.\n",
      "Adding message msg_004 from user\n",
      "Message content: i get scared when he gets angry.\n",
      "Analysis for message msg_004: {'emotions': ['fear', 'worry'], 'relationships': ['he']}\n",
      "Connecting emotion 'fear' to message msg_004\n",
      "Emotion 'fear' added to message 'msg_msg_004' successfully!\n",
      "Connecting emotion 'worry' to message msg_004\n",
      "Emotion 'worry' added to message 'msg_msg_004' successfully!\n",
      "Creating relationship node for: he\n"
     ]
    }
   ],
   "source": [
    "from pydantic import BaseModel\n",
    "from typing import List, Optional\n",
    "\n",
    "with open('test_msg.json', 'r') as file:\n",
    "    agent_message = json.load(file)\n",
    "\n",
    "\n",
    "for message in agent_message[\"conversation\"]:\n",
    "    print(f\"Adding message {message['message_id']} from {message['role']}\")\n",
    "    msg = message[\"message\"]\n",
    "    print(f\"Message content: {msg}\")\n",
    "    username = \"therapist_1\" if message[\"role\"] == \"agent\" else \"user_1\"\n",
    "    TherapyGraph.add_message_node(text=msg, conversation_id=\"conv_1\", message_id=message[\"message_id\"], username=username)\n",
    "    \n",
    "    # Use LLM to analyze the message for emotions and relationships\n",
    "    class EmotionRelationshipAnalysis(BaseModel):\n",
    "        emotions: Optional[List[str]] = None\n",
    "        relationships: Optional[List[str]] = None\n",
    "\n",
    "    try: \n",
    "        prompt = f\"\"\"Analyze this message to identify:\n",
    "        1. Emotions expressed or implied in the message\n",
    "        2. People or relationships the user is talking about\n",
    "        \n",
    "        Return a JSON object with:\n",
    "        - 'emotions' field: list of emotions from this list {emotion_names} or null if none found\n",
    "        - 'relationships' field: list of people/relationship from this list {relationships} or null if none found\n",
    "        \n",
    "        Message: '{msg}'\n",
    "        \n",
    "        Expected format: {{\"emotions\": [\"emotion1\", \"emotion2\"], \"relationships\": [\"person1\", \"person2\"]}}\n",
    "        Use null for fields where nothing is found.\"\"\"\n",
    "        \n",
    "        response = llm.invoke(prompt)\n",
    "        \n",
    "        # Parse and validate the response using Pydantic\n",
    "        analysis_data = json.loads(response.content)\n",
    "        analysis = EmotionRelationshipAnalysis(**analysis_data)\n",
    "        \n",
    "        print(f\"Analysis for message {message['message_id']}: {analysis.model_dump()}\")\n",
    "        \n",
    "        # Connect emotions\n",
    "        if analysis.emotions:\n",
    "            connect_emotions(analysis.model_dump(), message['message_id'])\n",
    "        \n",
    "    except json.JSONDecodeError as e:\n",
    "        print(f\"JSON parsing error: {e}\")\n",
    "        analysis = EmotionRelationshipAnalysis(emotions=None, relationships=None)\n",
    "    except Exception as e:\n",
    "        print(f\"Error analyzing message: {e}\")\n",
    "        analysis = EmotionRelationshipAnalysis(emotions=None, relationships=None)\n",
    "\n",
    "    if analysis.relationships is not None:\n",
    "        for person in analysis.relationships:\n",
    "            print(f\"Creating relationship node for: {person}\")\n",
    "            TherapyGraph.connect_person(name=person, username=username, role=\"relationship\")\n",
    "    else:\n",
    "        print(\"No relationships found in this message.\")\n",
    "\n",
    "\n",
    "    "
   ]
  }
 ],
 "metadata": {
  "kernelspec": {
   "display_name": "Python 3",
   "language": "python",
   "name": "python3"
  },
  "language_info": {
   "codemirror_mode": {
    "name": "ipython",
    "version": 3
   },
   "file_extension": ".py",
   "mimetype": "text/x-python",
   "name": "python",
   "nbconvert_exporter": "python",
   "pygments_lexer": "ipython3",
   "version": "3.10.12"
  }
 },
 "nbformat": 4,
 "nbformat_minor": 5
}
