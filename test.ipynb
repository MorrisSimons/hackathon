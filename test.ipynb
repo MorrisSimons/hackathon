{
 "cells": [
  {
   "cell_type": "code",
   "execution_count": 1,
   "id": "b984050f",
   "metadata": {},
   "outputs": [
    {
     "name": "stdout",
     "output_type": "stream",
     "text": [
      "Connection successful!\n",
      "Connected to Neo4j database successfully!\n"
     ]
    }
   ],
   "source": [
    "from main import TherapyGraph\n",
    "import json"
   ]
  },
  {
   "cell_type": "code",
   "execution_count": 2,
   "id": "da9151df",
   "metadata": {},
   "outputs": [],
   "source": [
    "#TherapyGraph.delete_emotions_classes()\n",
    "#TherapyGraph.insert_emotions_as_nodes()\n",
    "#TherapyGraph.insert_relationships()"
   ]
  },
  {
   "cell_type": "code",
   "execution_count": 3,
   "id": "ee8babcf",
   "metadata": {},
   "outputs": [
    {
     "name": "stdout",
     "output_type": "stream",
     "text": [
      "All username nodes deleted successfully!\n",
      "Remaining username nodes: 0\n",
      "All message nodes deleted successfully!\n",
      "Remaining message nodes: 0\n",
      "All emotion connections deleted successfully!\n",
      "Remaining emotion connections: 0\n",
      "All person nodes deleted successfully!\n",
      "Remaining person nodes: 0\n"
     ]
    },
    {
     "data": {
      "text/plain": [
       "<Record u=<Node element_id='4:ca7b4fdd-56c0-4663-a686-ea51332c9fec:220' labels=frozenset({'Username'}) properties={'name': 'Our_Therapist', 'created_at': neo4j.time.DateTime(2025, 5, 27, 6, 47, 2, 673000000, tzinfo=<UTC>), 'username': 'therapist_1'}>>"
      ]
     },
     "execution_count": 3,
     "metadata": {},
     "output_type": "execute_result"
    }
   ],
   "source": [
    "TherapyGraph.delete_all_usernames()\n",
    "TherapyGraph.delete_all_messages()\n",
    "TherapyGraph.delete_all_emotion_connections()\n",
    "TherapyGraph.delete_all_people()\n",
    "\n",
    "TherapyGraph.add_username(name=\"John Doe\", username=\"user_1\")\n",
    "TherapyGraph.add_username(name=\"Our_Therapist\", username=\"therapist_1\")"
   ]
  },
  {
   "cell_type": "code",
   "execution_count": 4,
   "id": "543a7d40",
   "metadata": {},
   "outputs": [
    {
     "name": "stdout",
     "output_type": "stream",
     "text": [
      "empathy\n",
      "tenderness\n",
      "warmth\n",
      "hostility\n",
      "resentment\n",
      "bitterness\n",
      "forgiveness\n",
      "acceptance\n",
      "rejection\n",
      "approval\n",
      "disapproval\n",
      "trust\n",
      "distrust\n",
      "confidence\n",
      "doubt\n",
      "certainty\n",
      "uncertainty\n",
      "optimism\n",
      "pessimism\n",
      "serenity\n",
      "bliss\n",
      "euphoria\n",
      "melancholy\n",
      "loneliness\n",
      "nostalgia\n",
      "regret\n",
      "remorse\n",
      "compassion\n",
      "contempt\n",
      "disdain\n",
      "awe\n",
      "wonder\n",
      "amazement\n",
      "enthusiasm\n",
      "passion\n",
      "desire\n",
      "lust\n",
      "affection\n",
      "joy\n",
      "happiness\n",
      "sadness\n",
      "anger\n",
      "fear\n",
      "disgust\n",
      "surprise\n",
      "love\n",
      "hate\n",
      "excitement\n",
      "admiration\n",
      "respect\n",
      "sympathy\n",
      "terror\n",
      "panic\n",
      "worry\n",
      "stress\n",
      "calm\n",
      "peace\n",
      "envy\n",
      "frustration\n",
      "grief\n",
      "boredom\n",
      "gratitude\n",
      "anxiety\n",
      "guilt\n",
      "depression\n",
      "curiosity\n",
      "confusion\n",
      "despair\n",
      "hope\n",
      "irritation\n",
      "fury\n",
      "relief\n",
      "shame\n",
      "rage\n",
      "jealousy\n",
      "pride\n",
      "contentment\n"
     ]
    }
   ],
   "source": [
    "emotions = TherapyGraph.get_all_emotions(True)\n"
   ]
  },
  {
   "cell_type": "code",
   "execution_count": 5,
   "id": "d7c3924b",
   "metadata": {},
   "outputs": [],
   "source": [
    "from langchain_openai import ChatOpenAI\n"
   ]
  },
  {
   "cell_type": "code",
   "execution_count": 6,
   "id": "63e266ae",
   "metadata": {},
   "outputs": [],
   "source": [
    "llm = ChatOpenAI(model_name=\"gpt-4.1-mini\", temperature=0.3)"
   ]
  },
  {
   "cell_type": "code",
   "execution_count": 7,
   "id": "cb1350c6",
   "metadata": {},
   "outputs": [
    {
     "name": "stdout",
     "output_type": "stream",
     "text": [
      "['empathy', 'tenderness', 'warmth', 'hostility', 'resentment', 'bitterness', 'forgiveness', 'acceptance', 'rejection', 'approval', 'disapproval', 'trust', 'distrust', 'confidence', 'doubt', 'certainty', 'uncertainty', 'optimism', 'pessimism', 'serenity', 'bliss', 'euphoria', 'melancholy', 'loneliness', 'nostalgia', 'regret', 'remorse', 'compassion', 'contempt', 'disdain', 'awe', 'wonder', 'amazement', 'enthusiasm', 'passion', 'desire', 'lust', 'affection', 'joy', 'happiness', 'sadness', 'anger', 'fear', 'disgust', 'surprise', 'love', 'hate', 'excitement', 'admiration', 'respect', 'sympathy', 'terror', 'panic', 'worry', 'stress', 'calm', 'peace', 'envy', 'frustration', 'grief', 'boredom', 'gratitude', 'anxiety', 'guilt', 'depression', 'curiosity', 'confusion', 'despair', 'hope', 'irritation', 'fury', 'relief', 'shame', 'rage', 'jealousy', 'pride', 'contentment']\n"
     ]
    }
   ],
   "source": [
    "emotion_names = [emotion['name'] for emotion in emotions]\n",
    "print(emotion_names)"
   ]
  },
  {
   "cell_type": "code",
   "execution_count": 8,
   "id": "f5e06439",
   "metadata": {},
   "outputs": [],
   "source": [
    "relationships_labels =  TherapyGraph.get_all_relationships()"
   ]
  },
  {
   "cell_type": "code",
   "execution_count": 9,
   "id": "ac2d70c8",
   "metadata": {},
   "outputs": [],
   "source": [
    "relationships = [relatioship[\"type\"] for relatioship in relationships_labels]"
   ]
  },
  {
   "cell_type": "code",
   "execution_count": 10,
   "id": "8d761c71",
   "metadata": {},
   "outputs": [],
   "source": [
    "def connect_emotions(analysis, i):\n",
    "     # Create emotion relationships\n",
    "    if 'emotions' in analysis:\n",
    "        for emotion_name in analysis['emotions']:\n",
    "            if emotion_name in emotion_names:\n",
    "                emotion_node_id = f\"emotion_{emotion_name.lower().replace(' ', '_')}\"\n",
    "                print(f\"Connecting emotion '{emotion_name}' to message {i}\")\n",
    "                TherapyGraph.connect_emotion(message_id=f\"msg_{i}\", emotion_name = emotion_name)\n",
    "            else:\n",
    "                print(f\"Emotion '{emotion_name}' not found in the list.\")\n",
    "                continue"
   ]
  },
  {
   "cell_type": "code",
   "execution_count": null,
   "id": "bbc2d2f8",
   "metadata": {},
   "outputs": [],
   "source": []
  },
  {
   "cell_type": "code",
   "execution_count": 11,
   "id": "636b2204",
   "metadata": {},
   "outputs": [
    {
     "name": "stdout",
     "output_type": "stream",
     "text": [
      "Adding message 1 from agent\n",
      "Message content: hello, how can i help you today? \n",
      "Analysis for message 1: {'emotions': ['helpfulness'], 'relationships': None}\n",
      "Emotion 'helpfulness' not found in the list.\n",
      "Adding message 2 from user\n",
      "Message content: hi, my dad beat me when i was child i think of this sometimes like now, that makes me sad. \n",
      "Analysis for message 2: {'emotions': ['sadness'], 'relationships': ['dad']}\n",
      "Connecting emotion 'sadness' to message 2\n",
      "Emotion 'sadness' added to message 'msg_2' successfully!\n",
      "Connecting relationship 'dad' to message 2\n",
      "Adding message 3 from agent\n",
      "Message content: that is not very good, how does that affect you now? \n",
      "Analysis for message 3: {'emotions': ['concern', 'worry'], 'relationships': None}\n",
      "Emotion 'concern' not found in the list.\n",
      "Connecting emotion 'worry' to message 3\n",
      "Emotion 'worry' added to message 'msg_3' successfully!\n",
      "Adding message 4 from user\n",
      "Message content: i get scared when he gets angry.\n",
      "Analysis for message 4: {'emotions': ['fear'], 'relationships': ['he']}\n",
      "Connecting emotion 'fear' to message 4\n",
      "Emotion 'fear' added to message 'msg_4' successfully!\n",
      "Connecting relationship 'he' to message 4\n",
      "Adding message 5 from agent\n",
      "Message content: i understand, so this is your problem\n",
      "Analysis for message 5: {'emotions': ['understanding'], 'relationships': None}\n",
      "Emotion 'understanding' not found in the list.\n",
      "Adding message 7 from user\n",
      "Message content: yes this is my problem\n",
      "Analysis for message 7: {'emotions': ['regret', 'acceptance'], 'relationships': None}\n",
      "Connecting emotion 'regret' to message 7\n",
      "Emotion 'regret' added to message 'msg_7' successfully!\n",
      "Connecting emotion 'acceptance' to message 7\n",
      "Emotion 'acceptance' added to message 'msg_7' successfully!\n"
     ]
    }
   ],
   "source": [
    "from pydantic import BaseModel\n",
    "from typing import List, Optional\n",
    "\n",
    "with open('test_msg.json', 'r') as file:\n",
    "    agent_message = json.load(file)\n",
    "\n",
    "\n",
    "for message in agent_message[\"conversation\"]:\n",
    "    print(f\"Adding message {message['message_id']} from {message['role']}\")\n",
    "    msg = message[\"message\"]\n",
    "    print(f\"Message content: {msg}\")\n",
    "    username = \"therapist_1\" if message[\"role\"] == \"agent\" else \"user_1\"\n",
    "    msgid = message[\"message_id\"]\n",
    "    TherapyGraph.add_message_node(text=msg, conversation_id=\"conv_1\", message_id=f\"msg_{msgid}\", username=username)\n",
    "    \n",
    "    # Use LLM to analyze the message for emotions and relationships\n",
    "    class EmotionRelationshipAnalysis(BaseModel):\n",
    "        emotions: Optional[List[str]] = None\n",
    "        relationships: Optional[List[str]] = None\n",
    "\n",
    "    try: \n",
    "        prompt = f\"\"\"Analyze this message to identify:\n",
    "        1. Emotions expressed or implied in the message\n",
    "        2. People or relationships the user is talking about\n",
    "        \n",
    "        Return a JSON object with:\n",
    "        - 'emotions' field: list of emotions from this list {emotion_names} or null if none found\n",
    "        - 'relationships' field: list of people/relationship from this list {relationships} or null if none found\n",
    "        \n",
    "        Message: '{msg}'\n",
    "        \n",
    "        Expected format: {{\"emotions\": [\"emotion1\", \"emotion2\"], \"relationships\": [\"person1\", \"person2\"]}}\n",
    "        Use null for fields where nothing is found.\"\"\"\n",
    "        \n",
    "        response = llm.invoke(prompt)\n",
    "        \n",
    "        # Parse and validate the response using Pydantic\n",
    "        analysis_data = json.loads(response.content)\n",
    "        analysis = EmotionRelationshipAnalysis(**analysis_data)\n",
    "        \n",
    "        print(f\"Analysis for message {message['message_id']}: {analysis.model_dump()}\")\n",
    "        \n",
    "        # Connect emotions\n",
    "        if analysis.emotions:\n",
    "            connect_emotions(analysis.model_dump(), message['message_id'])\n",
    "        \n",
    "    except json.JSONDecodeError as e:\n",
    "        print(f\"JSON parsing error: {e}\")\n",
    "        analysis = EmotionRelationshipAnalysis(emotions=None, relationships=None)\n",
    "    except Exception as e:\n",
    "        print(f\"Error analyzing message: {e}\")\n",
    "        analysis = EmotionRelationshipAnalysis(emotions=None, relationships=None)\n",
    "\n",
    "    # Connect relationships\n",
    "\n",
    "    if analysis.relationships:\n",
    "        for relationship in analysis.relationships:\n",
    "            print(f\"Connecting relationship '{relationship}' to message {message['message_id']}\")\n",
    "            TherapyGraph.connect_person(name=relationship, username=username, role=\"person\")\n",
    "\n",
    "\n"
   ]
  },
  {
   "cell_type": "code",
   "execution_count": 12,
   "id": "0d62f2fd",
   "metadata": {},
   "outputs": [
    {
     "name": "stdout",
     "output_type": "stream",
     "text": [
      "\n",
      "Analyzing problems from agent messages...\n",
      "All agent messages for problem analysis:\n",
      "Message 1: hello, how can i help you today? \n",
      "Message 2: hi, my dad beat me when i was child i think of this sometimes like now, that makes me sad. \n",
      "Message 3: that is not very good, how does that affect you now? \n",
      "Message 4: i get scared when he gets angry.\n",
      "Message 5: i understand, so this is your problem\n",
      "Message 7: yes this is my problem\n",
      "Problem analysis: {'problems': [{'name': 'childhood abuse', 'message_id': '2'}, {'name': 'trauma', 'message_id': '2'}, {'name': 'fear of anger', 'message_id': '4'}]}\n",
      "Connecting problem 'childhood abuse' from message 2\n",
      "Problem 'childhood abuse' added to message 'msg_2' and user 'user_1' successfully!\n",
      "Connecting problem 'trauma' from message 2\n",
      "Problem 'trauma' added to message 'msg_2' and user 'user_1' successfully!\n",
      "Connecting problem 'fear of anger' from message 4\n",
      "Problem 'fear of anger' added to message 'msg_4' and user 'user_1' successfully!\n"
     ]
    }
   ],
   "source": [
    "# After the conversation analysis, summarize problems from agent messages\n",
    "print(\"\\nAnalyzing problems from agent messages...\")\n",
    "\n",
    "agent_messages = [msg for msg in agent_message[\"conversation\"] ]\n",
    "\n",
    "if agent_messages:\n",
    "    # Prepare all agent messages for problem analysis\n",
    "    all_agent_text = \"\\n\".join([f\"Message {msg['message_id']}: {msg['message']}\" for msg in agent_messages])\n",
    "    print(f\"All agent messages for problem analysis:\\n{all_agent_text}\")\n",
    "    class ProblemAnalysis(BaseModel):\n",
    "        problems: Optional[List[Optional[dict]]] = None  # Allow None values in the list\n",
    "    \n",
    "    try:\n",
    "        problem_prompt = f\"\"\"Analyze the following therapist/agent messages to identify specific problems or issues that the user is facing. \n",
    "        \n",
    "        For each problem identified, specify which message it came from.\n",
    "        \n",
    "        Return a JSON object with:\n",
    "        - 'problems' field: list of objects with 'name' (the problem) and 'message_id' (where it was identified) or null if none found\n",
    "        \n",
    "        Agent Messages:\n",
    "        {all_agent_text}\n",
    "        \n",
    "        Expected format: {{\"problems\": [{{\"name\": \"trauma\", \"message_id\": \"1\"}}, {{\"name\": \"stress\", \"message_id\": \"2\"}}]}}\n",
    "        Use null if no problems are identified.\"\"\"\n",
    "        \n",
    "        problem_response = llm.invoke(problem_prompt)\n",
    "        problem_data = json.loads(problem_response.content)\n",
    "        problem_analysis = ProblemAnalysis(**problem_data)\n",
    "        \n",
    "        print(f\"Problem analysis: {problem_analysis.model_dump()}\")\n",
    "        \n",
    "        # Connect problems to graph database\n",
    "        if problem_analysis.problems:\n",
    "            for problem in problem_analysis.problems:\n",
    "                # Skip None values that might be returned by the LLM\n",
    "                if problem is None:\n",
    "                    continue\n",
    "                    \n",
    "                # Validate that problem has the required fields\n",
    "                if not isinstance(problem, dict) or 'name' not in problem or 'message_id' not in problem:\n",
    "                    print(f\"Skipping invalid problem format: {problem}\")\n",
    "                    continue\n",
    "                    \n",
    "                problem_name = problem['name']\n",
    "                message_id = problem['message_id']\n",
    "                username = \"user_1\"  # Since these are agent messages\n",
    "                \n",
    "                print(f\"Connecting problem '{problem_name}' from message {message_id}\")\n",
    "                TherapyGraph.connect_problem(problem_name=problem_name, message_id=f\"msg_{message_id}\", username=username)\n",
    "        else:\n",
    "            print(\"No problems identified in the agent messages.\")\n",
    "                \n",
    "    except json.JSONDecodeError as e:\n",
    "        print(f\"JSON parsing error for problems: {e}\")\n",
    "        print(f\"Raw response content: {problem_response.content}\")\n",
    "    except Exception as e:\n",
    "        print(f\"Error analyzing problems: {e}\")\n",
    "        print(f\"Raw response content: {problem_response.content if 'problem_response' in locals() else 'No response received'}\")\n",
    "\n",
    "     "
   ]
  }
 ],
 "metadata": {
  "kernelspec": {
   "display_name": "Python 3",
   "language": "python",
   "name": "python3"
  },
  "language_info": {
   "codemirror_mode": {
    "name": "ipython",
    "version": 3
   },
   "file_extension": ".py",
   "mimetype": "text/x-python",
   "name": "python",
   "nbconvert_exporter": "python",
   "pygments_lexer": "ipython3",
   "version": "3.10.12"
  }
 },
 "nbformat": 4,
 "nbformat_minor": 5
}
