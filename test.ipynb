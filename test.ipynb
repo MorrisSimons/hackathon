{
 "cells": [
  {
   "cell_type": "code",
   "execution_count": null,
   "id": "b984050f",
   "metadata": {},
   "outputs": [
    {
     "name": "stdout",
     "output_type": "stream",
     "text": [
      "Connection successful!\n",
      "Connected to Neo4j database successfully!\n"
     ]
    }
   ],
   "source": [
    "from our_graph import TherapyGraph\n",
    "import json"
   ]
  },
  {
   "cell_type": "code",
   "execution_count": 2,
   "id": "fc0d9249",
   "metadata": {},
   "outputs": [
    {
     "name": "stdout",
     "output_type": "stream",
     "text": [
      "All nodes and relationships deleted successfully!\n",
      "Remaining nodes: 0\n"
     ]
    },
    {
     "data": {
      "text/plain": [
       "0"
      ]
     },
     "execution_count": 2,
     "metadata": {},
     "output_type": "execute_result"
    }
   ],
   "source": [
    "TherapyGraph.clean_database()\n"
   ]
  },
  {
   "cell_type": "code",
   "execution_count": 3,
   "id": "34dd81d8",
   "metadata": {},
   "outputs": [
    {
     "name": "stdout",
     "output_type": "stream",
     "text": [
      "All emotion nodes deleted successfully!\n",
      "Remaining emotion nodes: 0\n",
      "All relationship nodes deleted successfully!\n",
      "Remaining relationship nodes: 0\n",
      "Total emotions: 77\n",
      "Human emotions list created successfully!\n"
     ]
    },
    {
     "data": {
      "text/plain": [
       "8"
      ]
     },
     "execution_count": 3,
     "metadata": {},
     "output_type": "execute_result"
    }
   ],
   "source": [
    "TherapyGraph.delete_emotions_classes()\n",
    "TherapyGraph.delete_all_relationships_types()\n",
    "\n",
    "\n",
    "TherapyGraph.insert_emotions_as_nodes()\n",
    "TherapyGraph.insert_relationships_types()"
   ]
  },
  {
   "cell_type": "code",
   "execution_count": 4,
   "id": "ee8babcf",
   "metadata": {},
   "outputs": [
    {
     "data": {
      "text/plain": [
       "<Record u=<Node element_id='4:ca7b4fdd-56c0-4663-a686-ea51332c9fec:206' labels=frozenset({'Username'}) properties={'name': 'Our_Therapist', 'created_at': neo4j.time.DateTime(2025, 5, 27, 8, 39, 18, 1000000, tzinfo=<UTC>), 'username': 'therapist_1'}>>"
      ]
     },
     "execution_count": 4,
     "metadata": {},
     "output_type": "execute_result"
    }
   ],
   "source": [
    "TherapyGraph.add_username(name=\"John Doe\", username=\"user_1\")\n",
    "TherapyGraph.add_username(name=\"Our_Therapist\", username=\"therapist_1\")"
   ]
  },
  {
   "cell_type": "code",
   "execution_count": 5,
   "id": "543a7d40",
   "metadata": {},
   "outputs": [
    {
     "name": "stdout",
     "output_type": "stream",
     "text": [
      "anger\n",
      "joy\n",
      "happiness\n",
      "sadness\n",
      "fear\n",
      "disgust\n",
      "surprise\n",
      "excitement\n",
      "love\n",
      "hate\n",
      "anxiety\n",
      "depression\n",
      "curiosity\n",
      "confusion\n",
      "frustration\n",
      "irritation\n",
      "guilt\n",
      "shame\n",
      "pride\n",
      "envy\n",
      "jealousy\n",
      "gratitude\n",
      "hope\n",
      "grief\n",
      "despair\n",
      "boredom\n",
      "rage\n",
      "relief\n",
      "contentment\n",
      "fury\n",
      "terror\n",
      "panic\n",
      "worry\n",
      "stress\n",
      "contempt\n",
      "calm\n",
      "peace\n",
      "awe\n",
      "serenity\n",
      "bliss\n",
      "wonder\n",
      "euphoria\n",
      "melancholy\n",
      "amazement\n",
      "loneliness\n",
      "nostalgia\n",
      "regret\n",
      "remorse\n",
      "respect\n",
      "compassion\n",
      "empathy\n",
      "disdain\n",
      "sympathy\n",
      "admiration\n",
      "enthusiasm\n",
      "passion\n",
      "affection\n",
      "tenderness\n",
      "warmth\n",
      "hostility\n",
      "optimism\n",
      "resentment\n",
      "bitterness\n",
      "forgiveness\n",
      "acceptance\n",
      "pessimism\n",
      "rejection\n",
      "approval\n",
      "disapproval\n",
      "trust\n",
      "distrust\n",
      "confidence\n",
      "doubt\n",
      "certainty\n",
      "uncertainty\n",
      "desire\n",
      "lust\n"
     ]
    }
   ],
   "source": [
    "emotions = TherapyGraph.get_all_emotions(True)\n"
   ]
  },
  {
   "cell_type": "code",
   "execution_count": 6,
   "id": "d7c3924b",
   "metadata": {},
   "outputs": [],
   "source": [
    "from langchain_openai import ChatOpenAI\n"
   ]
  },
  {
   "cell_type": "code",
   "execution_count": 7,
   "id": "63e266ae",
   "metadata": {},
   "outputs": [],
   "source": [
    "llm = ChatOpenAI(model_name=\"gpt-4.1-mini\", temperature=0.3)"
   ]
  },
  {
   "cell_type": "code",
   "execution_count": 8,
   "id": "cb1350c6",
   "metadata": {},
   "outputs": [
    {
     "name": "stdout",
     "output_type": "stream",
     "text": [
      "['anger', 'joy', 'happiness', 'sadness', 'fear', 'disgust', 'surprise', 'excitement', 'love', 'hate', 'anxiety', 'depression', 'curiosity', 'confusion', 'frustration', 'irritation', 'guilt', 'shame', 'pride', 'envy', 'jealousy', 'gratitude', 'hope', 'grief', 'despair', 'boredom', 'rage', 'relief', 'contentment', 'fury', 'terror', 'panic', 'worry', 'stress', 'contempt', 'calm', 'peace', 'awe', 'serenity', 'bliss', 'wonder', 'euphoria', 'melancholy', 'amazement', 'loneliness', 'nostalgia', 'regret', 'remorse', 'respect', 'compassion', 'empathy', 'disdain', 'sympathy', 'admiration', 'enthusiasm', 'passion', 'affection', 'tenderness', 'warmth', 'hostility', 'optimism', 'resentment', 'bitterness', 'forgiveness', 'acceptance', 'pessimism', 'rejection', 'approval', 'disapproval', 'trust', 'distrust', 'confidence', 'doubt', 'certainty', 'uncertainty', 'desire', 'lust']\n"
     ]
    }
   ],
   "source": [
    "emotion_names = [emotion['name'] for emotion in emotions]\n",
    "print(emotion_names)"
   ]
  },
  {
   "cell_type": "code",
   "execution_count": 9,
   "id": "f5e06439",
   "metadata": {},
   "outputs": [],
   "source": [
    "relationships_labels =  TherapyGraph.get_all_relationships()"
   ]
  },
  {
   "cell_type": "code",
   "execution_count": 10,
   "id": "5f3a5292",
   "metadata": {},
   "outputs": [
    {
     "data": {
      "text/plain": [
       "[<Node element_id='4:ca7b4fdd-56c0-4663-a686-ea51332c9fec:173' labels=frozenset({'Relationship'}) properties={'name': 'brother', 'created_at': neo4j.time.DateTime(2025, 5, 27, 8, 39, 17, 664000000, tzinfo=<UTC>)}>,\n",
       " <Node element_id='4:ca7b4fdd-56c0-4663-a686-ea51332c9fec:184' labels=frozenset({'Relationship'}) properties={'name': 'dad', 'created_at': neo4j.time.DateTime(2025, 5, 27, 8, 39, 17, 580000000, tzinfo=<UTC>)}>,\n",
       " <Node element_id='4:ca7b4fdd-56c0-4663-a686-ea51332c9fec:189' labels=frozenset({'Relationship'}) properties={'name': 'mom', 'created_at': neo4j.time.DateTime(2025, 5, 27, 8, 39, 17, 627000000, tzinfo=<UTC>)}>,\n",
       " <Node element_id='4:ca7b4fdd-56c0-4663-a686-ea51332c9fec:198' labels=frozenset({'Relationship'}) properties={'name': 'sister', 'created_at': neo4j.time.DateTime(2025, 5, 27, 8, 39, 17, 700000000, tzinfo=<UTC>)}>,\n",
       " <Node element_id='4:ca7b4fdd-56c0-4663-a686-ea51332c9fec:199' labels=frozenset({'Relationship'}) properties={'name': 'friend', 'created_at': neo4j.time.DateTime(2025, 5, 27, 8, 39, 17, 737000000, tzinfo=<UTC>)}>,\n",
       " <Node element_id='4:ca7b4fdd-56c0-4663-a686-ea51332c9fec:200' labels=frozenset({'Relationship'}) properties={'name': 'colleague', 'created_at': neo4j.time.DateTime(2025, 5, 27, 8, 39, 17, 775000000, tzinfo=<UTC>)}>,\n",
       " <Node element_id='4:ca7b4fdd-56c0-4663-a686-ea51332c9fec:201' labels=frozenset({'Relationship'}) properties={'name': 'partner', 'created_at': neo4j.time.DateTime(2025, 5, 27, 8, 39, 17, 813000000, tzinfo=<UTC>)}>,\n",
       " <Node element_id='4:ca7b4fdd-56c0-4663-a686-ea51332c9fec:203' labels=frozenset({'Relationship'}) properties={'name': 'child', 'created_at': neo4j.time.DateTime(2025, 5, 27, 8, 39, 17, 850000000, tzinfo=<UTC>)}>]"
      ]
     },
     "execution_count": 10,
     "metadata": {},
     "output_type": "execute_result"
    }
   ],
   "source": [
    "relationships_labels"
   ]
  },
  {
   "cell_type": "code",
   "execution_count": 11,
   "id": "ac2d70c8",
   "metadata": {},
   "outputs": [],
   "source": [
    "relationships = [relatioship[\"name\"] for relatioship in relationships_labels]"
   ]
  },
  {
   "cell_type": "code",
   "execution_count": 12,
   "id": "28fad3bd",
   "metadata": {},
   "outputs": [
    {
     "name": "stdout",
     "output_type": "stream",
     "text": [
      "['brother', 'dad', 'mom', 'sister', 'friend', 'colleague', 'partner', 'child']\n"
     ]
    }
   ],
   "source": [
    "print(relationships)"
   ]
  },
  {
   "cell_type": "code",
   "execution_count": 13,
   "id": "8d761c71",
   "metadata": {},
   "outputs": [],
   "source": [
    "def connect_emotions(analysis, i):\n",
    "     # Create emotion relationships\n",
    "    if 'emotions' in analysis:\n",
    "        for emotion_name in analysis['emotions']:\n",
    "            if emotion_name in emotion_names:\n",
    "                emotion_node_id = f\"emotion_{emotion_name.lower().replace(' ', '_')}\"\n",
    "                print(f\"Connecting emotion '{emotion_name}' to message {i}\")\n",
    "                TherapyGraph.connect_emotion(message_id=f\"msg_{i}\", emotion_name = emotion_name)\n",
    "            else:\n",
    "                print(f\"Emotion '{emotion_name}' not found in the list.\")\n",
    "                continue"
   ]
  },
  {
   "cell_type": "code",
   "execution_count": 14,
   "id": "636b2204",
   "metadata": {},
   "outputs": [
    {
     "name": "stdout",
     "output_type": "stream",
     "text": [
      "Adding message 1 from agent\n",
      "Message content: hello, how can i help you today? \n",
      "Analysis for message 1: {'emotions': None, 'relationships': None}\n",
      "Adding message 2 from user\n",
      "Message content: hi, my dad beat me when i was child i think of this sometimes like now, that makes me sad. \n",
      "Analysis for message 2: {'emotions': ['sadness'], 'relationships': ['dad', 'child']}\n",
      "Connecting emotion 'sadness' to message 2\n",
      "Emotion 'sadness' added to message 'msg_2' successfully!\n",
      "Connecting relationship 'dad' to message 2\n",
      "Connecting relationship 'child' to message 2\n",
      "Adding message 3 from agent\n",
      "Message content: that is not very good, how does that affect you now? \n",
      "Analysis for message 3: {'emotions': ['worry'], 'relationships': None}\n",
      "Connecting emotion 'worry' to message 3\n",
      "Emotion 'worry' added to message 'msg_3' successfully!\n",
      "Adding message 4 from user\n",
      "Message content: i get scared when he gets angry.\n",
      "Analysis for message 4: {'emotions': ['fear', 'anger'], 'relationships': None}\n",
      "Connecting emotion 'fear' to message 4\n",
      "Emotion 'fear' added to message 'msg_4' successfully!\n",
      "Connecting emotion 'anger' to message 4\n",
      "Emotion 'anger' added to message 'msg_4' successfully!\n",
      "Adding message 5 from agent\n",
      "Message content: i understand, so this is your problem\n",
      "Analysis for message 5: {'emotions': ['understanding'], 'relationships': None}\n",
      "Emotion 'understanding' not found in the list.\n",
      "Adding message 7 from user\n",
      "Message content: yes this is my problem\n",
      "Analysis for message 7: {'emotions': None, 'relationships': None}\n"
     ]
    }
   ],
   "source": [
    "from pydantic import BaseModel\n",
    "from typing import List, Optional\n",
    "\n",
    "with open('test_msg.json', 'r') as file:\n",
    "    agent_message = json.load(file)\n",
    "\n",
    "\n",
    "for message in agent_message[\"conversation\"]:\n",
    "    print(f\"Adding message {message['message_id']} from {message['role']}\")\n",
    "    msg = message[\"message\"]\n",
    "    print(f\"Message content: {msg}\")\n",
    "    username = \"therapist_1\" if message[\"role\"] == \"agent\" else \"user_1\"\n",
    "    msgid = message[\"message_id\"]\n",
    "    TherapyGraph.add_message_node(text=msg, conversation_id=\"conv_1\", message_id=f\"msg_{msgid}\", username=username)\n",
    "    \n",
    "    # Use LLM to analyze the message for emotions and relationships\n",
    "    class EmotionRelationshipAnalysis(BaseModel):\n",
    "        emotions: Optional[List[str]] = None\n",
    "        relationships: Optional[List[str]] = None\n",
    "\n",
    "    try: \n",
    "        prompt = f\"\"\"Analyze this message to identify:\n",
    "        1. Emotions expressed or implied in the message\n",
    "        2. People or relationships the user is talking about\n",
    "        \n",
    "        Return a JSON object with:\n",
    "        - 'emotions' field: list of emotions from this list {emotion_names} or null if none found\n",
    "        - 'relationships' field: list of people/relationship from this list {relationships} or null if none found\n",
    "        \n",
    "        Message: '{msg}'\n",
    "        \n",
    "        Expected format: {{\"emotions\": [\"stress\"], \"relationships\": [\"dad\", \"child\"]}}\n",
    "        Use null for fields where nothing is found.\"\"\"\n",
    "        \n",
    "        response = llm.invoke(prompt)\n",
    "        \n",
    "        # Parse and validate the response using Pydantic\n",
    "        analysis_data = json.loads(response.content)\n",
    "        analysis = EmotionRelationshipAnalysis(**analysis_data)\n",
    "        \n",
    "        print(f\"Analysis for message {message['message_id']}: {analysis.model_dump()}\")\n",
    "        \n",
    "        # Connect emotions\n",
    "        if analysis.emotions:\n",
    "            connect_emotions(analysis.model_dump(), message['message_id'])\n",
    "        \n",
    "    except json.JSONDecodeError as e:\n",
    "        print(f\"JSON parsing error: {e}\")\n",
    "        analysis = EmotionRelationshipAnalysis(emotions=None, relationships=None)\n",
    "    except Exception as e:\n",
    "        print(f\"Error analyzing message: {e}\")\n",
    "        analysis = EmotionRelationshipAnalysis(emotions=None, relationships=None)\n",
    "\n",
    "    # Connect relationships\n",
    "\n",
    "    if analysis.relationships:\n",
    "        for relationship in analysis.relationships:\n",
    "            print(f\"Connecting relationship '{relationship}' to message {message['message_id']}\")\n",
    "            TherapyGraph.connect_person(name=relationship, username=username, role=\"person\")\n",
    "\n",
    "\n"
   ]
  },
  {
   "cell_type": "code",
   "execution_count": 15,
   "id": "0d62f2fd",
   "metadata": {},
   "outputs": [
    {
     "name": "stdout",
     "output_type": "stream",
     "text": [
      "\n",
      "Analyzing problems from agent messages...\n",
      "All agent messages for problem analysis:\n",
      "Message 1: hello, how can i help you today? \n",
      "Message 2: hi, my dad beat me when i was child i think of this sometimes like now, that makes me sad. \n",
      "Message 3: that is not very good, how does that affect you now? \n",
      "Message 4: i get scared when he gets angry.\n",
      "Message 5: i understand, so this is your problem\n",
      "Message 7: yes this is my problem\n",
      "Problem analysis: {'problems': [{'name': 'childhood abuse', 'message_id': '2'}, {'name': 'trauma', 'message_id': '2'}, {'name': 'fear of anger', 'message_id': '4'}, {'name': 'sadness', 'message_id': '2'}]}\n",
      "Connecting problem 'childhood abuse' from message 2\n",
      "Problem 'childhood abuse' added to message 'msg_2' and user 'user_1' successfully!\n",
      "Connecting problem 'trauma' from message 2\n",
      "Problem 'trauma' added to message 'msg_2' and user 'user_1' successfully!\n",
      "Connecting problem 'fear of anger' from message 4\n",
      "Problem 'fear of anger' added to message 'msg_4' and user 'user_1' successfully!\n",
      "Connecting problem 'sadness' from message 2\n",
      "Problem 'sadness' added to message 'msg_2' and user 'user_1' successfully!\n"
     ]
    }
   ],
   "source": [
    "# After the conversation analysis, summarize problems from agent messages\n",
    "print(\"\\nAnalyzing problems from agent messages...\")\n",
    "\n",
    "agent_messages = [msg for msg in agent_message[\"conversation\"] ]\n",
    "\n",
    "if agent_messages:\n",
    "    # Prepare all agent messages for problem analysis\n",
    "    all_agent_text = \"\\n\".join([f\"Message {msg['message_id']}: {msg['message']}\" for msg in agent_messages])\n",
    "    print(f\"All agent messages for problem analysis:\\n{all_agent_text}\")\n",
    "    class ProblemAnalysis(BaseModel):\n",
    "        problems: Optional[List[Optional[dict]]] = None  # Allow None values in the list\n",
    "    \n",
    "    try:\n",
    "        problem_prompt = f\"\"\"Analyze the following therapist/agent messages to identify specific problems or issues that the user is facing. \n",
    "        \n",
    "        For each problem identified, specify which message it came from.\n",
    "        \n",
    "        Return a JSON object with:\n",
    "        - 'problems' field: list of objects with 'name' (the problem) and 'message_id' (where it was identified) or null if none found\n",
    "        \n",
    "        Agent Messages:\n",
    "        {all_agent_text}\n",
    "        \n",
    "        Expected format: {{\"problems\": [{{\"name\": \"trauma\", \"message_id\": \"1\"}}, {{\"name\": \"stress\", \"message_id\": \"2\"}}]}}\n",
    "        Use null if no problems are identified.\"\"\"\n",
    "        \n",
    "        problem_response = llm.invoke(problem_prompt)\n",
    "        problem_data = json.loads(problem_response.content)\n",
    "        problem_analysis = ProblemAnalysis(**problem_data)\n",
    "        \n",
    "        print(f\"Problem analysis: {problem_analysis.model_dump()}\")\n",
    "        \n",
    "        # Connect problems to graph database\n",
    "        if problem_analysis.problems:\n",
    "            for problem in problem_analysis.problems:\n",
    "                # Skip None values that might be returned by the LLM\n",
    "                if problem is None:\n",
    "                    continue\n",
    "                    \n",
    "                # Validate that problem has the required fields\n",
    "                if not isinstance(problem, dict) or 'name' not in problem or 'message_id' not in problem:\n",
    "                    print(f\"Skipping invalid problem format: {problem}\")\n",
    "                    continue\n",
    "                    \n",
    "                problem_name = problem['name']\n",
    "                message_id = problem['message_id']\n",
    "                username = \"user_1\"  # Since these are agent messages\n",
    "                \n",
    "                print(f\"Connecting problem '{problem_name}' from message {message_id}\")\n",
    "                TherapyGraph.connect_problem(problem_name=problem_name, message_id=f\"msg_{message_id}\", username=username)\n",
    "        else:\n",
    "            print(\"No problems identified in the agent messages.\")\n",
    "                \n",
    "    except json.JSONDecodeError as e:\n",
    "        print(f\"JSON parsing error for problems: {e}\")\n",
    "        print(f\"Raw response content: {problem_response.content}\")\n",
    "    except Exception as e:\n",
    "        print(f\"Error analyzing problems: {e}\")\n",
    "        print(f\"Raw response content: {problem_response.content if 'problem_response' in locals() else 'No response received'}\")\n",
    "\n",
    "     "
   ]
  },
  {
   "cell_type": "code",
   "execution_count": 16,
   "id": "c3cbca50",
   "metadata": {},
   "outputs": [
    {
     "name": "stdout",
     "output_type": "stream",
     "text": [
      "Conversation 'conv_1' created successfully!\n",
      "Connecting all messages to conversation: conv_1\n",
      "Connecting message msg_1 to conversation conv_1\n",
      "Connecting message msg_2 to conversation conv_1\n",
      "Connecting message msg_3 to conversation conv_1\n",
      "Connecting message msg_4 to conversation conv_1\n",
      "Connecting message msg_5 to conversation conv_1\n",
      "Connecting message msg_7 to conversation conv_1\n",
      "Successfully connected all 6 messages to conversation conv_1\n"
     ]
    }
   ],
   "source": [
    "# Connect all messages to the conversation summary\n",
    "conversation_id = \"conv_1\"\n",
    "\n",
    "create_conversation = TherapyGraph.create_conversation(conversation_id=conversation_id)\n",
    "\n",
    "print(f\"Connecting all messages to conversation: {conversation_id}\")\n",
    "\n",
    "# Get all messages and connect them to the conversation\n",
    "for msg in agent_message[\"conversation\"]:\n",
    "    message_id = f\"msg_{msg['message_id']}\"\n",
    "    print(f\"Connecting message {message_id} to conversation {conversation_id}\")\n",
    "    TherapyGraph.connect_message_to_conversation(message_id=message_id, conversation_id=conversation_id)\n",
    "\n",
    "print(f\"Successfully connected all {len(agent_message['conversation'])} messages to conversation {conversation_id}\")\n"
   ]
  }
 ],
 "metadata": {
  "kernelspec": {
   "display_name": "Python 3",
   "language": "python",
   "name": "python3"
  },
  "language_info": {
   "codemirror_mode": {
    "name": "ipython",
    "version": 3
   },
   "file_extension": ".py",
   "mimetype": "text/x-python",
   "name": "python",
   "nbconvert_exporter": "python",
   "pygments_lexer": "ipython3",
   "version": "3.10.12"
  }
 },
 "nbformat": 4,
 "nbformat_minor": 5
}
