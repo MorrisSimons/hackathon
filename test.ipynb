{
 "cells": [
  {
   "cell_type": "code",
   "execution_count": 1,
   "id": "b984050f",
   "metadata": {},
   "outputs": [
    {
     "name": "stdout",
     "output_type": "stream",
     "text": [
      "Connection successful!\n",
      "Connected to Neo4j database successfully!\n"
     ]
    }
   ],
   "source": [
    "from main import TherapyGraph\n",
    "import json"
   ]
  },
  {
   "cell_type": "code",
   "execution_count": 2,
   "id": "da9151df",
   "metadata": {},
   "outputs": [],
   "source": [
    "#TherapyGraph.delete_emotions_classes()\n",
    "#TherapyGraph.insert_emotions_as_nodes()"
   ]
  },
  {
   "cell_type": "code",
   "execution_count": 3,
   "id": "ee8babcf",
   "metadata": {},
   "outputs": [
    {
     "name": "stdout",
     "output_type": "stream",
     "text": [
      "All username nodes deleted successfully!\n",
      "Remaining username nodes: 0\n",
      "All message nodes deleted successfully!\n",
      "Remaining message nodes: 0\n",
      "All emotion connections deleted successfully!\n",
      "Remaining emotion connections: 0\n"
     ]
    },
    {
     "data": {
      "text/plain": [
       "<Record u=<Node element_id='4:ca7b4fdd-56c0-4663-a686-ea51332c9fec:83' labels=frozenset({'Username'}) properties={'name': 'Our_Therapist', 'created_at': neo4j.time.DateTime(2025, 5, 27, 2, 38, 21, 10000000, tzinfo=<UTC>), 'username': 'therapist_1'}>>"
      ]
     },
     "execution_count": 3,
     "metadata": {},
     "output_type": "execute_result"
    }
   ],
   "source": [
    "TherapyGraph.delete_all_usernames()\n",
    "TherapyGraph.delete_all_messages()\n",
    "TherapyGraph.delete_all_emotion_connections()\n",
    "\n",
    "TherapyGraph.add_username(name=\"John Doe\", username=\"user_1\")\n",
    "TherapyGraph.add_username(name=\"Our_Therapist\", username=\"therapist_1\")"
   ]
  },
  {
   "cell_type": "code",
   "execution_count": 4,
   "id": "543a7d40",
   "metadata": {},
   "outputs": [
    {
     "name": "stdout",
     "output_type": "stream",
     "text": [
      "empathy\n",
      "tenderness\n",
      "warmth\n",
      "hostility\n",
      "resentment\n",
      "bitterness\n",
      "forgiveness\n",
      "acceptance\n",
      "rejection\n",
      "approval\n",
      "disapproval\n",
      "trust\n",
      "distrust\n",
      "confidence\n",
      "doubt\n",
      "certainty\n",
      "uncertainty\n",
      "optimism\n",
      "pessimism\n",
      "serenity\n",
      "bliss\n",
      "euphoria\n",
      "melancholy\n",
      "loneliness\n",
      "nostalgia\n",
      "regret\n",
      "remorse\n",
      "compassion\n",
      "contempt\n",
      "disdain\n",
      "awe\n",
      "wonder\n",
      "amazement\n",
      "enthusiasm\n",
      "passion\n",
      "desire\n",
      "lust\n",
      "affection\n",
      "joy\n",
      "happiness\n",
      "sadness\n",
      "anger\n",
      "fear\n",
      "disgust\n",
      "surprise\n",
      "love\n",
      "hate\n",
      "excitement\n",
      "admiration\n",
      "respect\n",
      "sympathy\n",
      "terror\n",
      "panic\n",
      "worry\n",
      "stress\n",
      "calm\n",
      "peace\n",
      "envy\n",
      "frustration\n",
      "grief\n",
      "boredom\n",
      "gratitude\n",
      "anxiety\n",
      "guilt\n",
      "depression\n",
      "curiosity\n",
      "confusion\n",
      "despair\n",
      "hope\n",
      "irritation\n",
      "fury\n",
      "relief\n",
      "shame\n",
      "rage\n",
      "jealousy\n",
      "pride\n",
      "contentment\n"
     ]
    }
   ],
   "source": [
    "emotions = TherapyGraph.get_all_emotions(True)\n"
   ]
  },
  {
   "cell_type": "code",
   "execution_count": 5,
   "id": "d7c3924b",
   "metadata": {},
   "outputs": [],
   "source": [
    "from langchain_openai import ChatOpenAI\n"
   ]
  },
  {
   "cell_type": "code",
   "execution_count": 6,
   "id": "63e266ae",
   "metadata": {},
   "outputs": [],
   "source": [
    "llm = ChatOpenAI(model_name=\"gpt-4.1-nano\", temperature=0.3)"
   ]
  },
  {
   "cell_type": "code",
   "execution_count": 7,
   "id": "cb1350c6",
   "metadata": {},
   "outputs": [
    {
     "name": "stdout",
     "output_type": "stream",
     "text": [
      "['empathy', 'tenderness', 'warmth', 'hostility', 'resentment', 'bitterness', 'forgiveness', 'acceptance', 'rejection', 'approval', 'disapproval', 'trust', 'distrust', 'confidence', 'doubt', 'certainty', 'uncertainty', 'optimism', 'pessimism', 'serenity', 'bliss', 'euphoria', 'melancholy', 'loneliness', 'nostalgia', 'regret', 'remorse', 'compassion', 'contempt', 'disdain', 'awe', 'wonder', 'amazement', 'enthusiasm', 'passion', 'desire', 'lust', 'affection', 'joy', 'happiness', 'sadness', 'anger', 'fear', 'disgust', 'surprise', 'love', 'hate', 'excitement', 'admiration', 'respect', 'sympathy', 'terror', 'panic', 'worry', 'stress', 'calm', 'peace', 'envy', 'frustration', 'grief', 'boredom', 'gratitude', 'anxiety', 'guilt', 'depression', 'curiosity', 'confusion', 'despair', 'hope', 'irritation', 'fury', 'relief', 'shame', 'rage', 'jealousy', 'pride', 'contentment']\n"
     ]
    }
   ],
   "source": [
    "emotion_names = [emotion['name'] for emotion in emotions]\n",
    "print(emotion_names)"
   ]
  },
  {
   "cell_type": "code",
   "execution_count": 8,
   "id": "636b2204",
   "metadata": {},
   "outputs": [
    {
     "name": "stdout",
     "output_type": "stream",
     "text": [
      "Adding message 0 from user agent\n",
      "Message content: hello, how can i help you today? \n",
      "Connecting emotion 'trust' to message 0\n",
      "Emotion 'trust' added to message 'msg_0' successfully!\n",
      "Connecting emotion 'acceptance' to message 0\n",
      "Emotion 'acceptance' added to message 'msg_0' successfully!\n",
      "Connecting emotion 'warmth' to message 0\n",
      "Emotion 'warmth' added to message 'msg_0' successfully!\n",
      "Adding message 1 from user user\n",
      "Message content: hi, my dad beat me when i was child i think of this sometimes like now, that makes me sad. \n",
      "Connecting emotion 'sadness' to message 1\n",
      "Emotion 'sadness' added to message 'msg_1' successfully!\n",
      "Connecting emotion 'resentment' to message 1\n",
      "Emotion 'resentment' added to message 'msg_1' successfully!\n"
     ]
    }
   ],
   "source": [
    "with open('test_msg.json', 'r') as file:\n",
    "    agent_message = json.load(file)\n",
    "\n",
    "\n",
    "for i, user in enumerate(agent_message):\n",
    "    print(f\"Adding message {i} from user {user}\")\n",
    "    msg = agent_message[f\"{user}\"][\"message\"]\n",
    "    print(f\"Message content: {msg}\")\n",
    "    username = \"therapist_1\" if user == \"agent\" else \"user_1\"\n",
    "    TherapyGraph.add_message_node(text=msg, conversation_id=\"conv_1\", message_id=f\"msg_{i}\", username=username)\n",
    "    # Use LLM to analyze the message for emotions and relationships\n",
    "    prompt = f\"Analyze this message for emotions and relationships to other people. Return a JSON with 'emotions'  you can only use these emotions but only the ones that applies in this msg: {emotions} and 'relationships' (list of people mentioned): '{msg}'\"\n",
    "    response = llm.invoke(prompt)\n",
    "    analysis = json.loads(response.content)\n",
    "\n",
    "    # Create emotion relationships\n",
    "    if 'emotions' in analysis:\n",
    "        for emotion_name in analysis['emotions']:\n",
    "            if emotion_name in emotion_names:\n",
    "                emotion_node_id = f\"emotion_{emotion_name.lower().replace(' ', '_')}\"\n",
    "                print(f\"Connecting emotion '{emotion_name}' to message {i}\")\n",
    "                TherapyGraph.connect_emotion(message_id=f\"msg_{i}\", emotion_name = emotion_name)\n",
    "            else:\n",
    "                print(f\"Emotion '{emotion_name}' not found in the list.\")\n",
    "                continue\n",
    "            \n",
    "#    # Create relationship nodes for mentioned people\n",
    "#    if 'relationships' in analysis:\n",
    "#        for person in analysis['relationships']:\n",
    "#            person_node_id = f\"person_{person.lower().replace(' ', '_')}\"\n",
    "#            TherapyGraph.add_person_node(person, person_node_id)\n",
    "#            TherapyGraph.create_person_relationship(f\"msg_{i}\", person_node_id)\n",
    "#    \n",
    "    "
   ]
  }
 ],
 "metadata": {
  "kernelspec": {
   "display_name": "Python 3",
   "language": "python",
   "name": "python3"
  },
  "language_info": {
   "codemirror_mode": {
    "name": "ipython",
    "version": 3
   },
   "file_extension": ".py",
   "mimetype": "text/x-python",
   "name": "python",
   "nbconvert_exporter": "python",
   "pygments_lexer": "ipython3",
   "version": "3.10.12"
  }
 },
 "nbformat": 4,
 "nbformat_minor": 5
}
